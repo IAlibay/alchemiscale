{
 "cells": [
  {
   "cell_type": "markdown",
   "id": "6d27b499-55a1-4050-8c69-826a130707bd",
   "metadata": {},
   "source": [
    "# Demo - Using `alchemiscale` to evaluate a relative binding free energy network"
   ]
  },
  {
   "cell_type": "markdown",
   "id": "e3ea5f9b-97ee-4bc2-bfd7-c5cde5e0420c",
   "metadata": {},
   "source": [
    "This notebook details the process of running a relative binding free energy calculation using the [openfe](https://github.com/OpenFreeEnergy/openfe/) toolkit and the execution platform [alchemiscale](https://github.com/openforcefield/alchemiscale).\n",
    "\n",
    "The notebook is broken down into the following section:\n",
    "  1. Creating an `AlchemicalNetwork`\n",
    "  2. Submitting an `Alchemicalnetwork` to `alchemiscale`\n",
    "  3. Monitoring the progress of an `alchemiscale` submission\n",
    "  4. Gathering results and analyzing them using `cinnabar`\n",
    "\n",
    "Credits:\n",
    "- Irfan Alibay ([@ialibay](https://github.com/IAlibay)) for initial structure and content\n",
    "- David Dotson ([@dotsdl](https://github.com/dotsdl)) for expansion and editing for use as a tutorial"
   ]
  },
  {
   "cell_type": "markdown",
   "id": "177075c1-0bf3-4f59-88fd-2b2122b34555",
   "metadata": {},
   "source": [
    "## Creating an `AlchemicalNetwork` for the `tyk2` benchmark system"
   ]
  },
  {
   "cell_type": "markdown",
   "id": "8d1d6468-70a5-4d0b-b4bf-8d7093b6be9a",
   "metadata": {},
   "source": [
    "We first illustrate how to build `AlchemicalNetwork` objects,\n",
    "from a starting point of chemical models stored in sdf and pdb files.\n",
    "\n",
    "An `AlchemicalNetwork` is used to represent an entire network of calculations,\n",
    "and is composed of many smaller objects:\n",
    "\n",
    "- An `AlchemicalNetwork` composed of \n",
    "  - each node a `ChemicalSystem`\n",
    "    - each containing many components, such as `SmallMoleculeComponent`, `ProteinComponent`\n",
    "      - internally each Component usually wraps an RDKit representation\n",
    "  - each directed edge a `Transformation`, containing\n",
    "    - two `ChemicalSystem`s, the 'A' and 'B' side\n",
    "    - zero or more `Mapping` objects relating these two sides\n",
    "    - a `Protocol` defining the computational method to be applied to other items"
   ]
  },
  {
   "cell_type": "code",
   "execution_count": 32,
   "id": "27b4aa61-ca82-44fa-be84-c802f1083a29",
   "metadata": {},
   "outputs": [],
   "source": [
    "# suppress `numba` warnings, if present\n",
    "from numba.core.errors import NumbaWarning\n",
    "import warnings\n",
    "\n",
    "warnings.simplefilter('ignore', category=NumbaWarning)\n",
    "warnings.filterwarnings('ignore')"
   ]
  },
  {
   "cell_type": "code",
   "execution_count": 5,
   "id": "6bb3f4a4-2135-494a-8365-9ef229dd124d",
   "metadata": {},
   "outputs": [],
   "source": [
    "import openfe\n",
    "import gufe\n",
    "from openff.units import unit\n",
    "from rdkit import Chem"
   ]
  },
  {
   "cell_type": "code",
   "execution_count": 6,
   "id": "7d1fca4b-9750-4dcf-816a-b5a0782003af",
   "metadata": {},
   "outputs": [
    {
     "name": "stdout",
     "output_type": "stream",
     "text": [
      "gufe version:  0.9.1\n",
      "openfe version:  0.11.0\n"
     ]
    }
   ],
   "source": [
    "print(\"gufe version: \", gufe.__version__)\n",
    "print(\"openfe version: \", openfe.__version__)"
   ]
  },
  {
   "cell_type": "code",
   "execution_count": 33,
   "id": "4517e70f-ed72-46c8-946a-00cac4207882",
   "metadata": {},
   "outputs": [],
   "source": [
    "import logging\n",
    "logger = logging.getLogger()\n",
    "logger.setLevel(logging.WARN)"
   ]
  },
  {
   "cell_type": "markdown",
   "id": "7002df79-73c6-46ca-93dc-a0fe3c0389a5",
   "metadata": {},
   "source": [
    "### Define `ChemicalSystem`s for network nodes\n",
    "\n",
    "We'll start by defining the nodes for our network.\n",
    "A `ChemicalSystem` is made of one or more `Component`s. These can be one of `ProteinComponent`, `SmallMoleculeComponent`, or `SolventComponent`, and potentially others as needed. This design allows for memory efficient representation of large networks with perhaps hundreds or thousands of nodes, but perhaps far fewer variants in proteins, ligands, etc."
   ]
  },
  {
   "cell_type": "markdown",
   "id": "cc900044-72f6-4463-9589-afda3a153c14",
   "metadata": {},
   "source": [
    "#### Reading Ligands\n",
    "\n",
    "The ligands are concatenated in a single sdf file, we'll read these using RDKit.\n",
    "\n",
    "Each of the ligands have been pre-docked into the protein and aligned to their common scaffold. It is important to recognize that any processing required to prepare ligand and protein structures for alchemical free energy calculations should be done *before* the steps we are taking here."
   ]
  },
  {
   "cell_type": "code",
   "execution_count": 8,
   "id": "16527065",
   "metadata": {},
   "outputs": [
    {
     "data": {
      "text/plain": [
       "[SmallMoleculeComponent(name=lig_ejm_54),\n",
       " SmallMoleculeComponent(name=lig_jmc_23),\n",
       " SmallMoleculeComponent(name=lig_ejm_47),\n",
       " SmallMoleculeComponent(name=lig_jmc_27),\n",
       " SmallMoleculeComponent(name=lig_ejm_46),\n",
       " SmallMoleculeComponent(name=lig_ejm_31),\n",
       " SmallMoleculeComponent(name=lig_ejm_42),\n",
       " SmallMoleculeComponent(name=lig_ejm_50),\n",
       " SmallMoleculeComponent(name=lig_ejm_45),\n",
       " SmallMoleculeComponent(name=lig_jmc_28),\n",
       " SmallMoleculeComponent(name=lig_ejm_55),\n",
       " SmallMoleculeComponent(name=lig_ejm_43),\n",
       " SmallMoleculeComponent(name=lig_ejm_48)]"
      ]
     },
     "execution_count": 8,
     "metadata": {},
     "output_type": "execute_result"
    }
   ],
   "source": [
    "ligands = [\n",
    "    openfe.SmallMoleculeComponent(m) for m in Chem.SDMolSupplier('ligands.sdf', removeHs=False)\n",
    "]\n",
    "ligands"
   ]
  },
  {
   "cell_type": "code",
   "execution_count": 9,
   "id": "16e4b2b9-14ab-4d07-8ec7-2926f41c9426",
   "metadata": {},
   "outputs": [],
   "source": [
    "# The OpenFE RBFE protocol does not yet support charge changes (to be changed very soon!)\n",
    "# Here we raise an error if a change in formal charge is identified\n",
    "base_formalcharge = Chem.rdmolops.GetFormalCharge(ligands[0].to_rdkit())\n",
    "\n",
    "for mol in ligands[1:]:\n",
    "    if Chem.rdmolops.GetFormalCharge(mol.to_rdkit()) != base_formalcharge:\n",
    "        errmsg = f\"The molecule {mol} has a different formal charge than the first ligand molecule\"\n",
    "        raise ValueError(errmsg)"
   ]
  },
  {
   "cell_type": "markdown",
   "id": "4307a828-2e40-43d6-b148-23f2b83b0586",
   "metadata": {},
   "source": [
    "#### Reading the protein\n",
    "\n",
    "The protein is supplied as a PDB file, readable via the `ProteinComponent.from_pdb_file` class method."
   ]
  },
  {
   "cell_type": "code",
   "execution_count": 10,
   "id": "a31c89a4",
   "metadata": {},
   "outputs": [
    {
     "data": {
      "text/plain": [
       "ProteinComponent(name=tyk2)"
      ]
     },
     "execution_count": 10,
     "metadata": {},
     "output_type": "execute_result"
    }
   ],
   "source": [
    "protein = openfe.ProteinComponent.from_pdb_file('protein.pdb', name='tyk2')\n",
    "protein"
   ]
  },
  {
   "cell_type": "markdown",
   "id": "78639c38-e866-4186-b932-d48f63099ad4",
   "metadata": {},
   "source": [
    "#### Defining the solvent\n",
    "\n",
    "We'll also need at least one `SolventComponent` to encode our choice of solvent and counterions, with concentration.\n",
    "The concentration is defined as having units supplied by `openff.units`, this package is used to avoid confusion.\n",
    "\n",
    "\n",
    "The `SolventComponent` doesn't actually perform any actual solvation (packing water molecules, ions); that is performed just before simulation time during `Protocol` execution."
   ]
  },
  {
   "cell_type": "code",
   "execution_count": 11,
   "id": "3c47166d-143b-41f0-9dce-7805e56d7191",
   "metadata": {},
   "outputs": [
    {
     "data": {
      "text/plain": [
       "SolventComponent(name=O, Na+, Cl-)"
      ]
     },
     "execution_count": 11,
     "metadata": {},
     "output_type": "execute_result"
    }
   ],
   "source": [
    "solvent = openfe.SolventComponent(positive_ion='Na', \n",
    "                                  negative_ion='Cl',\n",
    "                                  neutralize=True, \n",
    "                                  ion_concentration=0.15*unit.molar)\n",
    "solvent"
   ]
  },
  {
   "cell_type": "markdown",
   "id": "00827c9e-50aa-4d3d-90d0-4f510e3de247",
   "metadata": {},
   "source": [
    "#### Build the `ChemicalSystem`s\n",
    "\n",
    "We can now construct the `ChemicalSystem`s we want represented in our network. Since we are planning to perform relative binding free energy (RBFE) calculations, we'll define both *complex* and *solvent* variants for each ligand.\n",
    "\n",
    "This produces a dictionary mapping the ligand name to the `ChemicalSystem` that contains that ligand.\n",
    "There are two dictionaries, for complexed and solvated ligands respectively."
   ]
  },
  {
   "cell_type": "code",
   "execution_count": 12,
   "id": "10edc8b3-5f45-4e37-b1d5-bd508601e352",
   "metadata": {},
   "outputs": [
    {
     "data": {
      "text/plain": [
       "{'lig_ejm_54': ChemicalSystem(name=lig_ejm_54_complex, components={'ligand': SmallMoleculeComponent(name=lig_ejm_54), 'solvent': SolventComponent(name=O, Na+, Cl-), 'protein': ProteinComponent(name=tyk2)}),\n",
       " 'lig_jmc_23': ChemicalSystem(name=lig_jmc_23_complex, components={'ligand': SmallMoleculeComponent(name=lig_jmc_23), 'solvent': SolventComponent(name=O, Na+, Cl-), 'protein': ProteinComponent(name=tyk2)}),\n",
       " 'lig_ejm_47': ChemicalSystem(name=lig_ejm_47_complex, components={'ligand': SmallMoleculeComponent(name=lig_ejm_47), 'solvent': SolventComponent(name=O, Na+, Cl-), 'protein': ProteinComponent(name=tyk2)}),\n",
       " 'lig_jmc_27': ChemicalSystem(name=lig_jmc_27_complex, components={'ligand': SmallMoleculeComponent(name=lig_jmc_27), 'solvent': SolventComponent(name=O, Na+, Cl-), 'protein': ProteinComponent(name=tyk2)}),\n",
       " 'lig_ejm_46': ChemicalSystem(name=lig_ejm_46_complex, components={'ligand': SmallMoleculeComponent(name=lig_ejm_46), 'solvent': SolventComponent(name=O, Na+, Cl-), 'protein': ProteinComponent(name=tyk2)}),\n",
       " 'lig_ejm_31': ChemicalSystem(name=lig_ejm_31_complex, components={'ligand': SmallMoleculeComponent(name=lig_ejm_31), 'solvent': SolventComponent(name=O, Na+, Cl-), 'protein': ProteinComponent(name=tyk2)}),\n",
       " 'lig_ejm_42': ChemicalSystem(name=lig_ejm_42_complex, components={'ligand': SmallMoleculeComponent(name=lig_ejm_42), 'solvent': SolventComponent(name=O, Na+, Cl-), 'protein': ProteinComponent(name=tyk2)}),\n",
       " 'lig_ejm_50': ChemicalSystem(name=lig_ejm_50_complex, components={'ligand': SmallMoleculeComponent(name=lig_ejm_50), 'solvent': SolventComponent(name=O, Na+, Cl-), 'protein': ProteinComponent(name=tyk2)}),\n",
       " 'lig_ejm_45': ChemicalSystem(name=lig_ejm_45_complex, components={'ligand': SmallMoleculeComponent(name=lig_ejm_45), 'solvent': SolventComponent(name=O, Na+, Cl-), 'protein': ProteinComponent(name=tyk2)}),\n",
       " 'lig_jmc_28': ChemicalSystem(name=lig_jmc_28_complex, components={'ligand': SmallMoleculeComponent(name=lig_jmc_28), 'solvent': SolventComponent(name=O, Na+, Cl-), 'protein': ProteinComponent(name=tyk2)}),\n",
       " 'lig_ejm_55': ChemicalSystem(name=lig_ejm_55_complex, components={'ligand': SmallMoleculeComponent(name=lig_ejm_55), 'solvent': SolventComponent(name=O, Na+, Cl-), 'protein': ProteinComponent(name=tyk2)}),\n",
       " 'lig_ejm_43': ChemicalSystem(name=lig_ejm_43_complex, components={'ligand': SmallMoleculeComponent(name=lig_ejm_43), 'solvent': SolventComponent(name=O, Na+, Cl-), 'protein': ProteinComponent(name=tyk2)}),\n",
       " 'lig_ejm_48': ChemicalSystem(name=lig_ejm_48_complex, components={'ligand': SmallMoleculeComponent(name=lig_ejm_48), 'solvent': SolventComponent(name=O, Na+, Cl-), 'protein': ProteinComponent(name=tyk2)})}"
      ]
     },
     "execution_count": 12,
     "metadata": {},
     "output_type": "execute_result"
    }
   ],
   "source": [
    "complexed = {l.name: openfe.ChemicalSystem(components={'ligand': l,\n",
    "                                                       'solvent': solvent, \n",
    "                                                       'protein': protein}, \n",
    "                                           name=f\"{l.name}_complex\") \n",
    "             for l in ligands}\n",
    "complexed"
   ]
  },
  {
   "cell_type": "code",
   "execution_count": 13,
   "id": "c8a0b60d-bfae-4f99-9f4d-656c982433b9",
   "metadata": {},
   "outputs": [
    {
     "data": {
      "text/plain": [
       "{'lig_ejm_54': ChemicalSystem(name=lig_ejm_54_solvent, components={'ligand': SmallMoleculeComponent(name=lig_ejm_54), 'solvent': SolventComponent(name=O, Na+, Cl-)}),\n",
       " 'lig_jmc_23': ChemicalSystem(name=lig_jmc_23_solvent, components={'ligand': SmallMoleculeComponent(name=lig_jmc_23), 'solvent': SolventComponent(name=O, Na+, Cl-)}),\n",
       " 'lig_ejm_47': ChemicalSystem(name=lig_ejm_47_solvent, components={'ligand': SmallMoleculeComponent(name=lig_ejm_47), 'solvent': SolventComponent(name=O, Na+, Cl-)}),\n",
       " 'lig_jmc_27': ChemicalSystem(name=lig_jmc_27_solvent, components={'ligand': SmallMoleculeComponent(name=lig_jmc_27), 'solvent': SolventComponent(name=O, Na+, Cl-)}),\n",
       " 'lig_ejm_46': ChemicalSystem(name=lig_ejm_46_solvent, components={'ligand': SmallMoleculeComponent(name=lig_ejm_46), 'solvent': SolventComponent(name=O, Na+, Cl-)}),\n",
       " 'lig_ejm_31': ChemicalSystem(name=lig_ejm_31_solvent, components={'ligand': SmallMoleculeComponent(name=lig_ejm_31), 'solvent': SolventComponent(name=O, Na+, Cl-)}),\n",
       " 'lig_ejm_42': ChemicalSystem(name=lig_ejm_42_solvent, components={'ligand': SmallMoleculeComponent(name=lig_ejm_42), 'solvent': SolventComponent(name=O, Na+, Cl-)}),\n",
       " 'lig_ejm_50': ChemicalSystem(name=lig_ejm_50_solvent, components={'ligand': SmallMoleculeComponent(name=lig_ejm_50), 'solvent': SolventComponent(name=O, Na+, Cl-)}),\n",
       " 'lig_ejm_45': ChemicalSystem(name=lig_ejm_45_solvent, components={'ligand': SmallMoleculeComponent(name=lig_ejm_45), 'solvent': SolventComponent(name=O, Na+, Cl-)}),\n",
       " 'lig_jmc_28': ChemicalSystem(name=lig_jmc_28_solvent, components={'ligand': SmallMoleculeComponent(name=lig_jmc_28), 'solvent': SolventComponent(name=O, Na+, Cl-)}),\n",
       " 'lig_ejm_55': ChemicalSystem(name=lig_ejm_55_solvent, components={'ligand': SmallMoleculeComponent(name=lig_ejm_55), 'solvent': SolventComponent(name=O, Na+, Cl-)}),\n",
       " 'lig_ejm_43': ChemicalSystem(name=lig_ejm_43_solvent, components={'ligand': SmallMoleculeComponent(name=lig_ejm_43), 'solvent': SolventComponent(name=O, Na+, Cl-)}),\n",
       " 'lig_ejm_48': ChemicalSystem(name=lig_ejm_48_solvent, components={'ligand': SmallMoleculeComponent(name=lig_ejm_48), 'solvent': SolventComponent(name=O, Na+, Cl-)})}"
      ]
     },
     "execution_count": 13,
     "metadata": {},
     "output_type": "execute_result"
    }
   ],
   "source": [
    "solvated = {l.name: openfe.ChemicalSystem(components={'ligand': l, \n",
    "                                                      'solvent': solvent}, \n",
    "                                          name=f\"{l.name}_solvent\") \n",
    "            for l in ligands}\n",
    "solvated"
   ]
  },
  {
   "cell_type": "markdown",
   "id": "80dd8261-d431-43dd-9439-20c59abce39b",
   "metadata": {},
   "source": [
    "### Define `Transformation`s between `ChemicalSystem`s as network edges"
   ]
  },
  {
   "cell_type": "markdown",
   "id": "b7cabcfe-66c4-48cc-9dfe-e1ec6fb4daa8",
   "metadata": {},
   "source": [
    "A `Transformation` is a directed edge between two `ChemicalSystem`s. It includes a `Protocol` parameterized with `Settings`, and optionally a `ComponentMapping`. \n",
    "\n",
    "The `Protocol` defines the actual computational method used to evaluate the `Transformation` to yield estimates for the free energy difference between the `ChemicalSystem`s.\n",
    "\n",
    "The `ComponentMapping` defines the atom mapping(s) between corresponding `Component`s in the two `ChemicalSystem`s. This is often critical for relative binding free energy calculations, since the choice of mapping can heavily influence convergence of the resulting estimates."
   ]
  },
  {
   "cell_type": "markdown",
   "id": "fae8b80e-1b77-4d64-a967-10f75326647c",
   "metadata": {},
   "source": [
    "#### Define the `Protocol` used for `Transformation` evaluation"
   ]
  },
  {
   "cell_type": "markdown",
   "id": "2101fea6-3fda-4a73-81a0-cea41bb30dc0",
   "metadata": {},
   "source": [
    "For this example, we'll use the same `Protocol` for all our `Transformation`s, with identical `Settings` for each."
   ]
  },
  {
   "cell_type": "code",
   "execution_count": 14,
   "id": "183b23a6-1839-4586-bbbe-60b2defd2f01",
   "metadata": {},
   "outputs": [],
   "source": [
    "from openfe.protocols.openmm_rfe import RelativeHybridTopologyProtocol"
   ]
  },
  {
   "cell_type": "markdown",
   "id": "fb216611-780c-447b-b9d6-b628ba9ea619",
   "metadata": {},
   "source": [
    "Any given `Protocol` has a `default_settings()` method, which can be used to get the default settings that are specific to that `Protocol`:"
   ]
  },
  {
   "cell_type": "code",
   "execution_count": 15,
   "id": "d7bac455-ddc1-4735-96d7-5c6681ab3cbc",
   "metadata": {
    "scrolled": true,
    "tags": []
   },
   "outputs": [
    {
     "data": {
      "text/plain": [
       "{'forcefield_settings': {'constraints': 'hbonds',\n",
       "  'rigid_water': True,\n",
       "  'remove_com': False,\n",
       "  'hydrogen_mass': 3.0,\n",
       "  'forcefields': ['amber/ff14SB.xml',\n",
       "   'amber/tip3p_standard.xml',\n",
       "   'amber/tip3p_HFE_multivalent.xml',\n",
       "   'amber/phosaa10.xml'],\n",
       "  'small_molecule_forcefield': 'openff-2.0.0'},\n",
       " 'thermo_settings': {'temperature': 298.15 <Unit('kelvin')>,\n",
       "  'pressure': 0.9869232667160129 <Unit('standard_atmosphere')>,\n",
       "  'ph': None,\n",
       "  'redox_potential': None},\n",
       " 'system_settings': {'nonbonded_method': 'PME',\n",
       "  'nonbonded_cutoff': 1.0 <Unit('nanometer')>},\n",
       " 'solvation_settings': {'solvent_model': 'tip3p',\n",
       "  'solvent_padding': 1.2 <Unit('nanometer')>},\n",
       " 'alchemical_settings': {'lambda_functions': 'default',\n",
       "  'lambda_windows': 11,\n",
       "  'unsampled_endstates': False,\n",
       "  'use_dispersion_correction': False,\n",
       "  'softcore_LJ_v2': True,\n",
       "  'softcore_electrostatics': True,\n",
       "  'softcore_alpha': 0.85,\n",
       "  'softcore_electrostatics_alpha': 0.3,\n",
       "  'softcore_sigma_Q': 1.0,\n",
       "  'interpolate_old_and_new_14s': False,\n",
       "  'flatten_torsions': False},\n",
       " 'alchemical_sampler_settings': {'online_analysis_interval': 250,\n",
       "  'n_repeats': 3,\n",
       "  'sampler_method': 'repex',\n",
       "  'online_analysis_target_error': 0.0 <Unit('boltzmann_constant * kelvin')>,\n",
       "  'online_analysis_minimum_iterations': 500,\n",
       "  'flatness_criteria': 'logZ-flatness',\n",
       "  'gamma0': 1.0,\n",
       "  'n_replicas': 11},\n",
       " 'engine_settings': {'compute_platform': None},\n",
       " 'integrator_settings': {'timestep': 4 <Unit('femtosecond')>,\n",
       "  'collision_rate': 1.0 <Unit('1 / picosecond')>,\n",
       "  'n_steps': 250 <Unit('timestep')>,\n",
       "  'reassign_velocities': False,\n",
       "  'n_restart_attempts': 20,\n",
       "  'constraint_tolerance': 1e-06,\n",
       "  'barostat_frequency': 25 <Unit('timestep')>},\n",
       " 'simulation_settings': {'equilibration_length': 1.0 <Unit('nanosecond')>,\n",
       "  'production_length': 5.0 <Unit('nanosecond')>,\n",
       "  'forcefield_cache': 'db.json',\n",
       "  'minimization_steps': 5000,\n",
       "  'output_filename': 'simulation.nc',\n",
       "  'output_structure': 'hybrid_system.pdb',\n",
       "  'output_indices': 'not water',\n",
       "  'checkpoint_interval': 250 <Unit('timestep')>,\n",
       "  'checkpoint_storage': 'checkpoint.nc'}}"
      ]
     },
     "execution_count": 15,
     "metadata": {},
     "output_type": "execute_result"
    }
   ],
   "source": [
    "protocol_settings = RelativeHybridTopologyProtocol.default_settings()\n",
    "protocol_settings.dict()"
   ]
  },
  {
   "cell_type": "code",
   "execution_count": 16,
   "id": "c38305b0-879f-43b3-ba13-b010e478d2eb",
   "metadata": {},
   "outputs": [],
   "source": [
    "# Here we make it so that each simulation only encompasses a single repeat\n",
    "# We then do multiple repeats by running each simulation multiple time\n",
    "protocol_settings.alchemical_sampler_settings.n_repeats = 1\n",
    "\n",
    "# We enforce the compute platform to be CUDA. This ensures that a bad GPU node\n",
    "# on alchemiscale will fail automatically rather than trying to default to the CPU kernels\n",
    "protocol_settings.engine_settings.compute_platform = \"CUDA\"\n",
    "\n",
    "# We set the protocol to auto terminate once the MBAR error of the estimate drops below 0.2 kT\n",
    "protocol_settings.alchemical_sampler_settings.online_analysis_target_error = 0.2 * unit.boltzmann_constant * unit.kelvin"
   ]
  },
  {
   "cell_type": "markdown",
   "id": "3e2e440e-885d-4109-a845-8b7d96a35e60",
   "metadata": {},
   "source": [
    "We can now produce a parameterized `RelativeHybridTopologyProtocol` instance:"
   ]
  },
  {
   "cell_type": "code",
   "execution_count": 17,
   "id": "bd1d0a0d-00c9-44a1-820c-186b4ee05334",
   "metadata": {},
   "outputs": [],
   "source": [
    "protocol = RelativeHybridTopologyProtocol(protocol_settings)"
   ]
  },
  {
   "cell_type": "markdown",
   "id": "653a8d2f-a693-4ac1-99be-ece310f127e6",
   "metadata": {},
   "source": [
    "#### Build the `Transformation`s"
   ]
  },
  {
   "cell_type": "markdown",
   "id": "c25fc59b-8cf8-48ca-81e9-15ffbdf2a16d",
   "metadata": {},
   "source": [
    "We can now construct the `Transformation`s we want represented in our network.\n",
    "\n",
    "We'll use `openfe`'s implementation of the `LomapAtomMapper` to produce mappings between ligands, the default LOMAP scorer for assessing the quality of the mappings produced, and the minimal spanning tree network planner. However, you could use any network planner of your choice to generate the network connections and mappings and use those instead."
   ]
  },
  {
   "cell_type": "code",
   "execution_count": 18,
   "id": "a5bcca4e",
   "metadata": {},
   "outputs": [],
   "source": [
    "mapper = openfe.LomapAtomMapper(max3d=1.0, element_change=True)\n",
    "scorer = openfe.lomap_scorers.default_lomap_score\n",
    "network_planner = openfe.ligand_network_planning.generate_minimal_spanning_network"
   ]
  },
  {
   "cell_type": "code",
   "execution_count": 19,
   "id": "cad6ecf6",
   "metadata": {},
   "outputs": [
    {
     "data": {
      "application/vnd.jupyter.widget-view+json": {
       "model_id": "362fce2a1dd548519f4c8e4c7e271e11",
       "version_major": 2,
       "version_minor": 0
      },
      "text/plain": [
       " 29%|##9       | 23/78 [00:01<00:03, 14.34it/s]"
      ]
     },
     "metadata": {},
     "output_type": "display_data"
    }
   ],
   "source": [
    "# Note creating a minimum spanning tree requires an all-to-all mapping generation\n",
    "# This can be quite time consuming...\n",
    "ligand_network = network_planner(\n",
    "    ligands=ligands,\n",
    "    mappers=[mapper],\n",
    "    scorer=scorer\n",
    ")"
   ]
  },
  {
   "cell_type": "code",
   "execution_count": 25,
   "id": "03b66822-212a-4522-bbbb-5f7cdc99213d",
   "metadata": {},
   "outputs": [
    {
     "data": {
      "image/png": "[encoded data removed]",
      "text/plain": [
       "<Figure size 800x800 with 1 Axes>"
      ]
     },
     "execution_count": 25,
     "metadata": {},
     "output_type": "execute_result"
    }
   ],
   "source": [
    "from openfe.utils.atommapping_network_plotting import plot_atommapping_network\n",
    "plot_atommapping_network(ligand_network)"
   ]
  },
  {
   "cell_type": "markdown",
   "id": "e2a0653d-ef78-4c69-b9b7-962eb47329db",
   "metadata": {},
   "source": [
    "Since we are planning to perform relative binding free energy (RBFE) calculations, we'll define both *complex* and *solvent* variants for each `Transformation`:"
   ]
  },
  {
   "cell_type": "code",
   "execution_count": 26,
   "id": "56ab9012-7fed-4a57-9433-970f1b5c92cf",
   "metadata": {},
   "outputs": [
    {
     "name": "stdout",
     "output_type": "stream",
     "text": [
      "lig_ejm_46 lig_jmc_28\n",
      "lig_ejm_31 lig_ejm_48\n",
      "lig_ejm_31 lig_ejm_45\n",
      "lig_ejm_46 lig_ejm_31\n",
      "lig_ejm_42 lig_ejm_43\n",
      "lig_ejm_42 lig_ejm_50\n",
      "lig_jmc_23 lig_jmc_28\n",
      "lig_jmc_27 lig_jmc_28\n",
      "lig_ejm_54 lig_ejm_55\n",
      "lig_ejm_47 lig_ejm_31\n",
      "lig_ejm_31 lig_ejm_50\n",
      "lig_ejm_55 lig_ejm_43\n"
     ]
    }
   ],
   "source": [
    "for mapping in ligand_network.edges:\n",
    "    print(mapping.componentA.name, mapping.componentB.name)"
   ]
  },
  {
   "cell_type": "code",
   "execution_count": 27,
   "id": "f3379b4a",
   "metadata": {},
   "outputs": [],
   "source": [
    "complexed_transformations = []\n",
    "solvated_transformations = []\n",
    "\n",
    "for mapping in ligand_network.edges:\n",
    "    ligA_name = mapping.componentA.name\n",
    "    ligB_name = mapping.componentB.name\n",
    "    \n",
    "    ligA = complexed[ligA_name]['ligand']\n",
    "    ligB = complexed[ligB_name]['ligand']\n",
    "        \n",
    "    complexed_transformations.append(\n",
    "        openfe.Transformation(stateA=complexed[ligA_name], \n",
    "                              stateB=complexed[ligB_name], \n",
    "                              mapping={'ligand': mapping},\n",
    "                              protocol=protocol,\n",
    "                              name=f\"{complexed[ligA_name].name}->{complexed[ligB_name].name}\")\n",
    "    )\n",
    "    solvated_transformations.append(\n",
    "        openfe.Transformation(stateA=solvated[ligA_name], \n",
    "                              stateB=solvated[ligB_name], \n",
    "                              mapping={'ligand': mapping},\n",
    "                              protocol=protocol,\n",
    "                              name=f\"{solvated[ligA_name].name}->{solvated[ligB_name].name}\")\n",
    "    )"
   ]
  },
  {
   "cell_type": "markdown",
   "id": "3789edec-beaf-4bae-903b-da35910f848e",
   "metadata": {},
   "source": [
    "### Create the `AlchemicalNetwork`"
   ]
  },
  {
   "cell_type": "markdown",
   "id": "618d399e-d66a-499e-b43a-684b5e1b8ec5",
   "metadata": {},
   "source": [
    "An `AlchemicalNetwork` is simply the combination of `ChemicalSystem`s (nodes) and `Transformation`s (directed edges) that we want to evaluate $\\Delta G$s for. This data structure functions as a declaration of what you want to compute.\n",
    "\n",
    "We'll finish here by creating an `AlchemicalNetwork` from the collection of objects we've built so far."
   ]
  },
  {
   "cell_type": "code",
   "execution_count": 28,
   "id": "b45baada-efa4-46f7-a2cb-6e24a9309f1e",
   "metadata": {},
   "outputs": [
    {
     "data": {
      "text/plain": [
       "<AlchemicalNetwork-391c0eb68025cf4b83e4d706f189f745>"
      ]
     },
     "execution_count": 28,
     "metadata": {},
     "output_type": "execute_result"
    }
   ],
   "source": [
    "network = openfe.AlchemicalNetwork(edges=(solvated_transformations + complexed_transformations), \n",
    "                                   nodes=(list(solvated.values()) + list(complexed.values())),\n",
    "                                   name=\"tyk2_relative_benchmark\")\n",
    "network"
   ]
  },
  {
   "cell_type": "markdown",
   "id": "378a3bf0-7a45-4e70-84a5-49c850a1d441",
   "metadata": {},
   "source": [
    "That's it! We simply toss in all `Transformation`s (edges) and `ChemicalSystem`s (nodes) we want included in this `AlchemicalNetwork`, and optionally give it a name that means something to us (it need not be unique, but can be used to query for network(s) later)."
   ]
  },
  {
   "cell_type": "markdown",
   "id": "dcc15882-61ab-44d1-9eb1-378901063f72",
   "metadata": {},
   "source": [
    "We could have chosen here to leave the `nodes` argument off, since every `ChemicalSystem` we included was already represented among the `edges`, but we show it here for completeness. In this way, it's possible to include `ChemicalSystem`s in the network that aren't connected via any `Transformation`s to others, though in practice there isn't much utility in this."
   ]
  },
  {
   "cell_type": "markdown",
   "id": "2e9e4afd-f64b-406b-898e-4b8dcd2483ec",
   "metadata": {},
   "source": [
    "## Submitting an `AlchemicalNetwork` to `alchemiscale`"
   ]
  },
  {
   "cell_type": "code",
   "execution_count": 7,
   "id": "4471ecb9-5e58-40b2-b959-9c1a04cbda72",
   "metadata": {},
   "outputs": [
    {
     "name": "stdout",
     "output_type": "stream",
     "text": [
      "alchemiscale version:  0.1.3.post3\n"
     ]
    }
   ],
   "source": [
    "import alchemiscale\n",
    "print(\"alchemiscale version: \", alchemiscale.__version__)"
   ]
  },
  {
   "cell_type": "code",
   "execution_count": 22,
   "id": "c09991ea-bb8f-4907-9c99-94d5fe9c3714",
   "metadata": {},
   "outputs": [],
   "source": [
    "from alchemiscale import AlchemiscaleClient, Scope, ScopedKey\n",
    "from getpass import getpass"
   ]
  },
  {
   "cell_type": "code",
   "execution_count": 23,
   "id": "03b860de-8cf7-4ec3-909f-708ab2165a7a",
   "metadata": {},
   "outputs": [
    {
     "name": "stdin",
     "output_type": "stream",
     "text": [
      " ········\n"
     ]
    }
   ],
   "source": [
    "identity_key = getpass()"
   ]
  },
  {
   "cell_type": "code",
   "execution_count": 24,
   "id": "544ba62a-68c2-42e4-98b2-a9067ab643ef",
   "metadata": {},
   "outputs": [
    {
     "data": {
      "text/plain": [
       "AlchemiscaleClient('https://api.alchemiscale.org')"
      ]
     },
     "execution_count": 24,
     "metadata": {},
     "output_type": "execute_result"
    }
   ],
   "source": [
    "asc = AlchemiscaleClient('https://api.alchemiscale.org', 'ddotson', identity_key)\n",
    "asc"
   ]
  },
  {
   "cell_type": "code",
   "execution_count": 25,
   "id": "a124d7ec-fb70-4194-b26c-ba57293c27ae",
   "metadata": {},
   "outputs": [
    {
     "data": {
      "text/plain": [
       "[<Scope('*-*-*')>]"
      ]
     },
     "execution_count": 25,
     "metadata": {},
     "output_type": "execute_result"
    }
   ],
   "source": [
    "asc.list_scopes()"
   ]
  },
  {
   "cell_type": "code",
   "execution_count": 28,
   "id": "8a44648f-fc45-4bd1-8ce0-b12445f1f453",
   "metadata": {},
   "outputs": [
    {
     "data": {
      "text/plain": [
       "[<ScopedKey('AlchemicalNetwork-689ac3d31af47ccd4379f3742f81f400-ddotson-v0_1_2-test_small_tyk2')>]"
      ]
     },
     "execution_count": 28,
     "metadata": {},
     "output_type": "execute_result"
    }
   ],
   "source": [
    "asc.query_networks(scope=Scope('ddotson'))"
   ]
  },
  {
   "cell_type": "markdown",
   "id": "042e6f29-0409-48d8-86a0-92b70fa30d87",
   "metadata": {},
   "source": [
    "`AlchemicalNetwork`s and the objects associated with them live in a *specific* `Scope`. Because my user identity is able to use any `Scope` from the above (`'*-*-*'`), I can choose whatever I want. `AlchemicalNetwork`s submitted to the same `Scope` will share `Transformation`s they have in common, along with results for those `Transformation`s; `AlchemicalNetwork`s in different `Scope`s will share nothing.\n",
    "\n",
    "How you choose to use the `Scope`s you have access to is entirely up to you. I'll choose this is my `Scope` for this network:"
   ]
  },
  {
   "cell_type": "code",
   "execution_count": 26,
   "id": "194b7484-2db0-4255-84e6-dabe220ff455",
   "metadata": {},
   "outputs": [],
   "source": [
    "scope = Scope('ddotson', 'tyk2', 'demo')"
   ]
  },
  {
   "cell_type": "markdown",
   "id": "ba9519cd-380a-4f92-99fb-799735ae835b",
   "metadata": {},
   "source": [
    "And then we'll submit the `AlchemicalNetwork` to that `Scope` with:"
   ]
  },
  {
   "cell_type": "code",
   "execution_count": 28,
   "id": "503a72fb-7d6a-4206-a34b-4f696880b148",
   "metadata": {},
   "outputs": [
    {
     "data": {
      "application/vnd.jupyter.widget-view+json": {
       "model_id": "b038af755384457385bd3ada27e98326",
       "version_major": 2,
       "version_minor": 0
      },
      "text/plain": [
       "Output()"
      ]
     },
     "metadata": {},
     "output_type": "display_data"
    },
    {
     "data": {
      "text/html": [
       "<pre style=\"white-space:pre;overflow-x:auto;line-height:normal;font-family:Menlo,'DejaVu Sans Mono',consolas,'Courier New',monospace\"></pre>\n"
      ],
      "text/plain": []
     },
     "metadata": {},
     "output_type": "display_data"
    },
    {
     "data": {
      "text/html": [
       "<pre style=\"white-space:pre;overflow-x:auto;line-height:normal;font-family:Menlo,'DejaVu Sans Mono',consolas,'Courier New',monospace\">\n",
       "</pre>\n"
      ],
      "text/plain": [
       "\n"
      ]
     },
     "metadata": {},
     "output_type": "display_data"
    }
   ],
   "source": [
    "an_sk = asc.create_network(network, scope)"
   ]
  },
  {
   "cell_type": "markdown",
   "id": "a4fd3102-06f5-4da5-92c5-364ab0b9f625",
   "metadata": {},
   "source": [
    "We get back a `ScopedKey` for the `AlchemicalNetwork:"
   ]
  },
  {
   "cell_type": "code",
   "execution_count": 30,
   "id": "57928257-eea8-43dd-8899-bde7550eac46",
   "metadata": {},
   "outputs": [
    {
     "data": {
      "text/plain": [
       "<ScopedKey('AlchemicalNetwork-391c0eb68025cf4b83e4d706f189f745-ddotson-tyk2-demo')>"
      ]
     },
     "execution_count": 30,
     "metadata": {},
     "output_type": "execute_result"
    }
   ],
   "source": [
    "an_sk"
   ]
  },
  {
   "cell_type": "markdown",
   "id": "000921f6-9ad4-4f15-90df-7caf71534429",
   "metadata": {},
   "source": [
    "This uniquely identifies the `AlchemicalNetwork` in the database, and allows us to perform operations later on it. We can get the `ScopedKey`s for all `AlchemicalNetwork`s that exist in `Scope`s accessible to us with:"
   ]
  },
  {
   "cell_type": "code",
   "execution_count": 34,
   "id": "89a4302b-1f3e-4aef-b20d-09ea763d9c80",
   "metadata": {},
   "outputs": [
    {
     "data": {
      "text/plain": [
       "[<ScopedKey('AlchemicalNetwork-391c0eb68025cf4b83e4d706f189f745-ddotson-tyk2-demo')>,\n",
       " <ScopedKey('AlchemicalNetwork-689ac3d31af47ccd4379f3742f81f400-ddotson-v0_1_2-test_small_tyk2')>]"
      ]
     },
     "execution_count": 34,
     "metadata": {},
     "output_type": "execute_result"
    }
   ],
   "source": [
    "asc.query_networks(scope=Scope('ddotson'))"
   ]
  },
  {
   "cell_type": "markdown",
   "id": "ee000fb8-f2e5-49c0-9f10-307eb1bff372",
   "metadata": {},
   "source": [
    "We can likewise retrieve an `AlchemicalNetwork` that we previously submitted with:"
   ]
  },
  {
   "cell_type": "code",
   "execution_count": 29,
   "id": "0ee299eb-c5a4-4802-90ed-4096baf6ecd3",
   "metadata": {},
   "outputs": [
    {
     "data": {
      "application/vnd.jupyter.widget-view+json": {
       "model_id": "afdb692e202b464188177d12232f8e56",
       "version_major": 2,
       "version_minor": 0
      },
      "text/plain": [
       "Output()"
      ]
     },
     "metadata": {},
     "output_type": "display_data"
    },
    {
     "data": {
      "text/html": [
       "<pre style=\"white-space:pre;overflow-x:auto;line-height:normal;font-family:Menlo,'DejaVu Sans Mono',consolas,'Courier New',monospace\"></pre>\n"
      ],
      "text/plain": []
     },
     "metadata": {},
     "output_type": "display_data"
    },
    {
     "data": {
      "text/html": [
       "<pre style=\"white-space:pre;overflow-x:auto;line-height:normal;font-family:Menlo,'DejaVu Sans Mono',consolas,'Courier New',monospace\">\n",
       "</pre>\n"
      ],
      "text/plain": [
       "\n"
      ]
     },
     "metadata": {},
     "output_type": "display_data"
    }
   ],
   "source": [
    "network_again = asc.get_network(an_sk)"
   ]
  },
  {
   "cell_type": "markdown",
   "id": "9e9b4910-873b-4c1b-b57e-be61f22ff90a",
   "metadata": {},
   "source": [
    "## Executing `Transformation`s by creating and actioning `Task`s"
   ]
  },
  {
   "attachments": {},
   "cell_type": "markdown",
   "id": "c3fa6874-78a2-41fb-a68d-235e15f2d21e",
   "metadata": {},
   "source": [
    "Submitting an `AlchemicalNetwork` with `create_network` only defines it on the server; it does not initiate any calculations. For this, we need to create and action `Task`s.\n",
    "\n",
    "To obtain a free energy estimate $\\Delta G$ for each `Transformation` in the `AlchemicalNetwork`, we'll create a `Task` for each one:"
   ]
  },
  {
   "cell_type": "code",
   "execution_count": 36,
   "id": "35400b4b-1232-4097-888a-5fda6d15b19b",
   "metadata": {},
   "outputs": [
    {
     "data": {
      "text/plain": [
       "[<ScopedKey('Task-2086006a0f4440288d0efe1c3c2ff322-ddotson-tyk2-demo')>,\n",
       " <ScopedKey('Task-76b040461cef43cda7d655722e32f3ae-ddotson-tyk2-demo')>,\n",
       " <ScopedKey('Task-bd454eb3d986410cb7117419a453ff26-ddotson-tyk2-demo')>,\n",
       " <ScopedKey('Task-347b659304ec431fa6297f8a1601bd28-ddotson-tyk2-demo')>,\n",
       " <ScopedKey('Task-a164f0cef7514a0db760b36a981663e2-ddotson-tyk2-demo')>,\n",
       " <ScopedKey('Task-558e5c225d234dd6b48a7a50af9d2b86-ddotson-tyk2-demo')>,\n",
       " <ScopedKey('Task-eaa4951a328241809ade13790af28dba-ddotson-tyk2-demo')>,\n",
       " <ScopedKey('Task-a9c89d3284f44474ad7eb3eff7abbe78-ddotson-tyk2-demo')>,\n",
       " <ScopedKey('Task-15c362b475d64e82ba7e462eeb002b80-ddotson-tyk2-demo')>,\n",
       " <ScopedKey('Task-dc5dd38945ea4271b0f62e3dbce8ecf2-ddotson-tyk2-demo')>,\n",
       " <ScopedKey('Task-c8b90e227dfa4a6eb6fdafe1e95ac132-ddotson-tyk2-demo')>,\n",
       " <ScopedKey('Task-db244232f6ad4582971ad23029e698fd-ddotson-tyk2-demo')>,\n",
       " <ScopedKey('Task-ea7274e03a0f4917aaed6cfb60ec7ee9-ddotson-tyk2-demo')>,\n",
       " <ScopedKey('Task-ef5535569d464153b7dccbbd3b9b34f9-ddotson-tyk2-demo')>,\n",
       " <ScopedKey('Task-b17dfa4de5cb41de880cbd938b268f9b-ddotson-tyk2-demo')>,\n",
       " <ScopedKey('Task-d2a6b8a90062479b8a19b4e8fdf55234-ddotson-tyk2-demo')>,\n",
       " <ScopedKey('Task-4f0494192c5a4684b5eb5979c2ce1fc3-ddotson-tyk2-demo')>,\n",
       " <ScopedKey('Task-8f52e4947c8f4290bf940eba648dc7c1-ddotson-tyk2-demo')>,\n",
       " <ScopedKey('Task-471bc3ab43df4a8bb85367f414694db0-ddotson-tyk2-demo')>,\n",
       " <ScopedKey('Task-971f992d2d6747ecb660f2235bc93d11-ddotson-tyk2-demo')>,\n",
       " <ScopedKey('Task-52d2af49ce484944806b1c2328eee7de-ddotson-tyk2-demo')>,\n",
       " <ScopedKey('Task-4c6da791f97748da94ecc5d0cb33e416-ddotson-tyk2-demo')>,\n",
       " <ScopedKey('Task-34a6a37cc97148eb987e285bfc255c4b-ddotson-tyk2-demo')>,\n",
       " <ScopedKey('Task-04b6296e12094070a193d38addfedc18-ddotson-tyk2-demo')>]"
      ]
     },
     "execution_count": 36,
     "metadata": {},
     "output_type": "execute_result"
    }
   ],
   "source": [
    "tasks = []\n",
    "for tf_sk in asc.get_network_transformations(an_sk):\n",
    "    tasks.extend(asc.create_tasks(tf_sk, count=1))\n",
    "\n",
    "tasks"
   ]
  },
  {
   "cell_type": "markdown",
   "id": "51330a08-330e-48ea-a779-fc012147068f",
   "metadata": {},
   "source": [
    "Now checking the `AlchemicalNetwork` status, we see 24 `Task`s `'waiting'`, 1 for each `Transformation`:"
   ]
  },
  {
   "cell_type": "code",
   "execution_count": 37,
   "id": "728c5157-ff6c-4fb7-9925-418b00a7823a",
   "metadata": {},
   "outputs": [
    {
     "data": {
      "text/html": [
       "<pre style=\"white-space:pre;overflow-x:auto;line-height:normal;font-family:Menlo,'DejaVu Sans Mono',consolas,'Courier New',monospace\"><span style=\"font-style: italic\">AlchemicalNetwork-391c0eb68025cf4b83e4d706f189f745-ddotson-tyk2-demo                                               </span>\n",
       "┏━━━━━━━━━━━━━━━━━━━━━━━━━━━━━━━━━━━━━━━━━━━━━━━━━━━━━━━━━━━━━━━━━━┳━━━━━━━━━━━━━━━━━━━━━━━━━━━━━━━━━━━━━━━━━━━━━━┓\n",
       "┃<span style=\"font-weight: bold\"> status                                                           </span>┃<span style=\"font-weight: bold\">                                        count </span>┃\n",
       "┡━━━━━━━━━━━━━━━━━━━━━━━━━━━━━━━━━━━━━━━━━━━━━━━━━━━━━━━━━━━━━━━━━━╇━━━━━━━━━━━━━━━━━━━━━━━━━━━━━━━━━━━━━━━━━━━━━━┩\n",
       "│<span style=\"color: #008000; text-decoration-color: #008000\"> complete                                                         </span>│<span style=\"color: #008000; text-decoration-color: #008000\">                                            0 </span>│\n",
       "│<span style=\"color: #d78700; text-decoration-color: #d78700\"> running                                                          </span>│<span style=\"color: #d78700; text-decoration-color: #d78700\">                                            0 </span>│\n",
       "│<span style=\"color: #1793d0; text-decoration-color: #1793d0\"> waiting                                                          </span>│<span style=\"color: #1793d0; text-decoration-color: #1793d0\">                                           24 </span>│\n",
       "│<span style=\"color: #ff073a; text-decoration-color: #ff073a\"> error                                                            </span>│<span style=\"color: #ff073a; text-decoration-color: #ff073a\">                                            0 </span>│\n",
       "│<span style=\"color: #ff00ff; text-decoration-color: #ff00ff\"> invalid                                                          </span>│<span style=\"color: #ff00ff; text-decoration-color: #ff00ff\">                                            0 </span>│\n",
       "│<span style=\"color: #af00ff; text-decoration-color: #af00ff\"> deleted                                                          </span>│<span style=\"color: #af00ff; text-decoration-color: #af00ff\">                                            0 </span>│\n",
       "└──────────────────────────────────────────────────────────────────┴──────────────────────────────────────────────┘\n",
       "</pre>\n"
      ],
      "text/plain": [
       "\u001b[3mAlchemicalNetwork-391c0eb68025cf4b83e4d706f189f745-ddotson-tyk2-demo                                               \u001b[0m\n",
       "┏━━━━━━━━━━━━━━━━━━━━━━━━━━━━━━━━━━━━━━━━━━━━━━━━━━━━━━━━━━━━━━━━━━┳━━━━━━━━━━━━━━━━━━━━━━━━━━━━━━━━━━━━━━━━━━━━━━┓\n",
       "┃\u001b[1m \u001b[0m\u001b[1mstatus                                                          \u001b[0m\u001b[1m \u001b[0m┃\u001b[1m \u001b[0m\u001b[1m                                       count\u001b[0m\u001b[1m \u001b[0m┃\n",
       "┡━━━━━━━━━━━━━━━━━━━━━━━━━━━━━━━━━━━━━━━━━━━━━━━━━━━━━━━━━━━━━━━━━━╇━━━━━━━━━━━━━━━━━━━━━━━━━━━━━━━━━━━━━━━━━━━━━━┩\n",
       "│\u001b[32m \u001b[0m\u001b[32mcomplete                                                        \u001b[0m\u001b[32m \u001b[0m│\u001b[32m \u001b[0m\u001b[32m                                           0\u001b[0m\u001b[32m \u001b[0m│\n",
       "│\u001b[38;5;172m \u001b[0m\u001b[38;5;172mrunning                                                         \u001b[0m\u001b[38;5;172m \u001b[0m│\u001b[38;5;172m \u001b[0m\u001b[38;5;172m                                           0\u001b[0m\u001b[38;5;172m \u001b[0m│\n",
       "│\u001b[38;2;23;147;208m \u001b[0m\u001b[38;2;23;147;208mwaiting                                                         \u001b[0m\u001b[38;2;23;147;208m \u001b[0m│\u001b[38;2;23;147;208m \u001b[0m\u001b[38;2;23;147;208m                                          24\u001b[0m\u001b[38;2;23;147;208m \u001b[0m│\n",
       "│\u001b[38;2;255;7;58m \u001b[0m\u001b[38;2;255;7;58merror                                                           \u001b[0m\u001b[38;2;255;7;58m \u001b[0m│\u001b[38;2;255;7;58m \u001b[0m\u001b[38;2;255;7;58m                                           0\u001b[0m\u001b[38;2;255;7;58m \u001b[0m│\n",
       "│\u001b[38;5;201m \u001b[0m\u001b[38;5;201minvalid                                                         \u001b[0m\u001b[38;5;201m \u001b[0m│\u001b[38;5;201m \u001b[0m\u001b[38;5;201m                                           0\u001b[0m\u001b[38;5;201m \u001b[0m│\n",
       "│\u001b[38;5;129m \u001b[0m\u001b[38;5;129mdeleted                                                         \u001b[0m\u001b[38;5;129m \u001b[0m│\u001b[38;5;129m \u001b[0m\u001b[38;5;129m                                           0\u001b[0m\u001b[38;5;129m \u001b[0m│\n",
       "└──────────────────────────────────────────────────────────────────┴──────────────────────────────────────────────┘\n"
      ]
     },
     "metadata": {},
     "output_type": "display_data"
    },
    {
     "data": {
      "text/plain": [
       "{'waiting': 24}"
      ]
     },
     "execution_count": 37,
     "metadata": {},
     "output_type": "execute_result"
    }
   ],
   "source": [
    "asc.get_network_status(an_sk)"
   ]
  },
  {
   "cell_type": "markdown",
   "id": "c4c4129f-e679-4364-ad6a-f158d246df2c",
   "metadata": {},
   "source": [
    "But there is one more step: `Task`s must also be *actioned* on the `AlchemicalNetwork` in order to be picked up by compute services:"
   ]
  },
  {
   "cell_type": "code",
   "execution_count": 38,
   "id": "9c849250-8f08-4cc2-b32d-213392efb2e4",
   "metadata": {},
   "outputs": [
    {
     "data": {
      "text/plain": [
       "[<ScopedKey('Task-2086006a0f4440288d0efe1c3c2ff322-ddotson-tyk2-demo')>,\n",
       " <ScopedKey('Task-76b040461cef43cda7d655722e32f3ae-ddotson-tyk2-demo')>,\n",
       " <ScopedKey('Task-bd454eb3d986410cb7117419a453ff26-ddotson-tyk2-demo')>,\n",
       " <ScopedKey('Task-347b659304ec431fa6297f8a1601bd28-ddotson-tyk2-demo')>,\n",
       " <ScopedKey('Task-a164f0cef7514a0db760b36a981663e2-ddotson-tyk2-demo')>,\n",
       " <ScopedKey('Task-558e5c225d234dd6b48a7a50af9d2b86-ddotson-tyk2-demo')>,\n",
       " <ScopedKey('Task-eaa4951a328241809ade13790af28dba-ddotson-tyk2-demo')>,\n",
       " <ScopedKey('Task-a9c89d3284f44474ad7eb3eff7abbe78-ddotson-tyk2-demo')>,\n",
       " <ScopedKey('Task-15c362b475d64e82ba7e462eeb002b80-ddotson-tyk2-demo')>,\n",
       " <ScopedKey('Task-dc5dd38945ea4271b0f62e3dbce8ecf2-ddotson-tyk2-demo')>,\n",
       " <ScopedKey('Task-c8b90e227dfa4a6eb6fdafe1e95ac132-ddotson-tyk2-demo')>,\n",
       " <ScopedKey('Task-db244232f6ad4582971ad23029e698fd-ddotson-tyk2-demo')>,\n",
       " <ScopedKey('Task-ea7274e03a0f4917aaed6cfb60ec7ee9-ddotson-tyk2-demo')>,\n",
       " <ScopedKey('Task-ef5535569d464153b7dccbbd3b9b34f9-ddotson-tyk2-demo')>,\n",
       " <ScopedKey('Task-b17dfa4de5cb41de880cbd938b268f9b-ddotson-tyk2-demo')>,\n",
       " <ScopedKey('Task-d2a6b8a90062479b8a19b4e8fdf55234-ddotson-tyk2-demo')>,\n",
       " <ScopedKey('Task-4f0494192c5a4684b5eb5979c2ce1fc3-ddotson-tyk2-demo')>,\n",
       " <ScopedKey('Task-8f52e4947c8f4290bf940eba648dc7c1-ddotson-tyk2-demo')>,\n",
       " <ScopedKey('Task-471bc3ab43df4a8bb85367f414694db0-ddotson-tyk2-demo')>,\n",
       " <ScopedKey('Task-971f992d2d6747ecb660f2235bc93d11-ddotson-tyk2-demo')>,\n",
       " <ScopedKey('Task-52d2af49ce484944806b1c2328eee7de-ddotson-tyk2-demo')>,\n",
       " <ScopedKey('Task-4c6da791f97748da94ecc5d0cb33e416-ddotson-tyk2-demo')>,\n",
       " <ScopedKey('Task-34a6a37cc97148eb987e285bfc255c4b-ddotson-tyk2-demo')>,\n",
       " <ScopedKey('Task-04b6296e12094070a193d38addfedc18-ddotson-tyk2-demo')>]"
      ]
     },
     "execution_count": 38,
     "metadata": {},
     "output_type": "execute_result"
    }
   ],
   "source": [
    "asc.action_tasks(tasks, an_sk)"
   ]
  },
  {
   "cell_type": "markdown",
   "id": "27535465-9080-405c-9533-409d3f00b859",
   "metadata": {},
   "source": [
    "The reason for this extra step is that a given `Transformation` may be a member of *multiple* `AlchemicalNetwork`s in its `Scope`. Computational effort is independently allocated on each `AlchemicalNetwork` through its *actioned* `Task`s, and these can differ between `AlchemicalNetwork`s in the same `Scope`. In the future, automated `Strategy`s will operate on individual `AlchemicalNetwork`s, and this ability to independently choose where to apply effort is critical for this."
   ]
  },
  {
   "cell_type": "markdown",
   "id": "f0f03f45-3766-4258-a025-a786affb7ad8",
   "metadata": {},
   "source": [
    "After *actioning* our `Task`s, we can see that some have been picked up and are now `'running'`:"
   ]
  },
  {
   "cell_type": "code",
   "execution_count": 43,
   "id": "d1a27b3f-e2e3-4501-b1cc-e475ccc6a24b",
   "metadata": {},
   "outputs": [
    {
     "data": {
      "text/html": [
       "<pre style=\"white-space:pre;overflow-x:auto;line-height:normal;font-family:Menlo,'DejaVu Sans Mono',consolas,'Courier New',monospace\"><span style=\"font-style: italic\">AlchemicalNetwork-391c0eb68025cf4b83e4d706f189f745-ddotson-tyk2-demo                                               </span>\n",
       "┏━━━━━━━━━━━━━━━━━━━━━━━━━━━━━━━━━━━━━━━━━━━━━━━━━━━━━━━━━━━━━━━━━━┳━━━━━━━━━━━━━━━━━━━━━━━━━━━━━━━━━━━━━━━━━━━━━━┓\n",
       "┃<span style=\"font-weight: bold\"> status                                                           </span>┃<span style=\"font-weight: bold\">                                        count </span>┃\n",
       "┡━━━━━━━━━━━━━━━━━━━━━━━━━━━━━━━━━━━━━━━━━━━━━━━━━━━━━━━━━━━━━━━━━━╇━━━━━━━━━━━━━━━━━━━━━━━━━━━━━━━━━━━━━━━━━━━━━━┩\n",
       "│<span style=\"color: #008000; text-decoration-color: #008000\"> complete                                                         </span>│<span style=\"color: #008000; text-decoration-color: #008000\">                                            0 </span>│\n",
       "│<span style=\"color: #d78700; text-decoration-color: #d78700\"> running                                                          </span>│<span style=\"color: #d78700; text-decoration-color: #d78700\">                                           15 </span>│\n",
       "│<span style=\"color: #1793d0; text-decoration-color: #1793d0\"> waiting                                                          </span>│<span style=\"color: #1793d0; text-decoration-color: #1793d0\">                                            9 </span>│\n",
       "│<span style=\"color: #ff073a; text-decoration-color: #ff073a\"> error                                                            </span>│<span style=\"color: #ff073a; text-decoration-color: #ff073a\">                                            0 </span>│\n",
       "│<span style=\"color: #ff00ff; text-decoration-color: #ff00ff\"> invalid                                                          </span>│<span style=\"color: #ff00ff; text-decoration-color: #ff00ff\">                                            0 </span>│\n",
       "│<span style=\"color: #af00ff; text-decoration-color: #af00ff\"> deleted                                                          </span>│<span style=\"color: #af00ff; text-decoration-color: #af00ff\">                                            0 </span>│\n",
       "└──────────────────────────────────────────────────────────────────┴──────────────────────────────────────────────┘\n",
       "</pre>\n"
      ],
      "text/plain": [
       "\u001b[3mAlchemicalNetwork-391c0eb68025cf4b83e4d706f189f745-ddotson-tyk2-demo                                               \u001b[0m\n",
       "┏━━━━━━━━━━━━━━━━━━━━━━━━━━━━━━━━━━━━━━━━━━━━━━━━━━━━━━━━━━━━━━━━━━┳━━━━━━━━━━━━━━━━━━━━━━━━━━━━━━━━━━━━━━━━━━━━━━┓\n",
       "┃\u001b[1m \u001b[0m\u001b[1mstatus                                                          \u001b[0m\u001b[1m \u001b[0m┃\u001b[1m \u001b[0m\u001b[1m                                       count\u001b[0m\u001b[1m \u001b[0m┃\n",
       "┡━━━━━━━━━━━━━━━━━━━━━━━━━━━━━━━━━━━━━━━━━━━━━━━━━━━━━━━━━━━━━━━━━━╇━━━━━━━━━━━━━━━━━━━━━━━━━━━━━━━━━━━━━━━━━━━━━━┩\n",
       "│\u001b[32m \u001b[0m\u001b[32mcomplete                                                        \u001b[0m\u001b[32m \u001b[0m│\u001b[32m \u001b[0m\u001b[32m                                           0\u001b[0m\u001b[32m \u001b[0m│\n",
       "│\u001b[38;5;172m \u001b[0m\u001b[38;5;172mrunning                                                         \u001b[0m\u001b[38;5;172m \u001b[0m│\u001b[38;5;172m \u001b[0m\u001b[38;5;172m                                          15\u001b[0m\u001b[38;5;172m \u001b[0m│\n",
       "│\u001b[38;2;23;147;208m \u001b[0m\u001b[38;2;23;147;208mwaiting                                                         \u001b[0m\u001b[38;2;23;147;208m \u001b[0m│\u001b[38;2;23;147;208m \u001b[0m\u001b[38;2;23;147;208m                                           9\u001b[0m\u001b[38;2;23;147;208m \u001b[0m│\n",
       "│\u001b[38;2;255;7;58m \u001b[0m\u001b[38;2;255;7;58merror                                                           \u001b[0m\u001b[38;2;255;7;58m \u001b[0m│\u001b[38;2;255;7;58m \u001b[0m\u001b[38;2;255;7;58m                                           0\u001b[0m\u001b[38;2;255;7;58m \u001b[0m│\n",
       "│\u001b[38;5;201m \u001b[0m\u001b[38;5;201minvalid                                                         \u001b[0m\u001b[38;5;201m \u001b[0m│\u001b[38;5;201m \u001b[0m\u001b[38;5;201m                                           0\u001b[0m\u001b[38;5;201m \u001b[0m│\n",
       "│\u001b[38;5;129m \u001b[0m\u001b[38;5;129mdeleted                                                         \u001b[0m\u001b[38;5;129m \u001b[0m│\u001b[38;5;129m \u001b[0m\u001b[38;5;129m                                           0\u001b[0m\u001b[38;5;129m \u001b[0m│\n",
       "└──────────────────────────────────────────────────────────────────┴──────────────────────────────────────────────┘\n"
      ]
     },
     "metadata": {},
     "output_type": "display_data"
    },
    {
     "data": {
      "text/plain": [
       "{'waiting': 9, 'running': 15}"
      ]
     },
     "execution_count": 43,
     "metadata": {},
     "output_type": "execute_result"
    }
   ],
   "source": [
    "asc.get_network_status(an_sk)"
   ]
  },
  {
   "cell_type": "markdown",
   "id": "902d1474-d43d-48f8-bdcf-5cee9e61145b",
   "metadata": {},
   "source": [
    "Later on, some are now `'complete'`:"
   ]
  },
  {
   "cell_type": "code",
   "execution_count": 52,
   "id": "67f5edd1-9775-45e1-a161-85cf12c67265",
   "metadata": {},
   "outputs": [
    {
     "data": {
      "text/html": [
       "<pre style=\"white-space:pre;overflow-x:auto;line-height:normal;font-family:Menlo,'DejaVu Sans Mono',consolas,'Courier New',monospace\"><span style=\"font-style: italic\">AlchemicalNetwork-391c0eb68025cf4b83e4d706f189f745-ddotson-tyk2-demo                                               </span>\n",
       "┏━━━━━━━━━━━━━━━━━━━━━━━━━━━━━━━━━━━━━━━━━━━━━━━━━━━━━━━━━━━━━━━━━━┳━━━━━━━━━━━━━━━━━━━━━━━━━━━━━━━━━━━━━━━━━━━━━━┓\n",
       "┃<span style=\"font-weight: bold\"> status                                                           </span>┃<span style=\"font-weight: bold\">                                        count </span>┃\n",
       "┡━━━━━━━━━━━━━━━━━━━━━━━━━━━━━━━━━━━━━━━━━━━━━━━━━━━━━━━━━━━━━━━━━━╇━━━━━━━━━━━━━━━━━━━━━━━━━━━━━━━━━━━━━━━━━━━━━━┩\n",
       "│<span style=\"color: #008000; text-decoration-color: #008000\"> complete                                                         </span>│<span style=\"color: #008000; text-decoration-color: #008000\">                                            0 </span>│\n",
       "│<span style=\"color: #d78700; text-decoration-color: #d78700\"> running                                                          </span>│<span style=\"color: #d78700; text-decoration-color: #d78700\">                                           24 </span>│\n",
       "│<span style=\"color: #1793d0; text-decoration-color: #1793d0\"> waiting                                                          </span>│<span style=\"color: #1793d0; text-decoration-color: #1793d0\">                                            0 </span>│\n",
       "│<span style=\"color: #ff073a; text-decoration-color: #ff073a\"> error                                                            </span>│<span style=\"color: #ff073a; text-decoration-color: #ff073a\">                                            0 </span>│\n",
       "│<span style=\"color: #ff00ff; text-decoration-color: #ff00ff\"> invalid                                                          </span>│<span style=\"color: #ff00ff; text-decoration-color: #ff00ff\">                                            0 </span>│\n",
       "│<span style=\"color: #af00ff; text-decoration-color: #af00ff\"> deleted                                                          </span>│<span style=\"color: #af00ff; text-decoration-color: #af00ff\">                                            0 </span>│\n",
       "└──────────────────────────────────────────────────────────────────┴──────────────────────────────────────────────┘\n",
       "</pre>\n"
      ],
      "text/plain": [
       "\u001b[3mAlchemicalNetwork-391c0eb68025cf4b83e4d706f189f745-ddotson-tyk2-demo                                               \u001b[0m\n",
       "┏━━━━━━━━━━━━━━━━━━━━━━━━━━━━━━━━━━━━━━━━━━━━━━━━━━━━━━━━━━━━━━━━━━┳━━━━━━━━━━━━━━━━━━━━━━━━━━━━━━━━━━━━━━━━━━━━━━┓\n",
       "┃\u001b[1m \u001b[0m\u001b[1mstatus                                                          \u001b[0m\u001b[1m \u001b[0m┃\u001b[1m \u001b[0m\u001b[1m                                       count\u001b[0m\u001b[1m \u001b[0m┃\n",
       "┡━━━━━━━━━━━━━━━━━━━━━━━━━━━━━━━━━━━━━━━━━━━━━━━━━━━━━━━━━━━━━━━━━━╇━━━━━━━━━━━━━━━━━━━━━━━━━━━━━━━━━━━━━━━━━━━━━━┩\n",
       "│\u001b[32m \u001b[0m\u001b[32mcomplete                                                        \u001b[0m\u001b[32m \u001b[0m│\u001b[32m \u001b[0m\u001b[32m                                           0\u001b[0m\u001b[32m \u001b[0m│\n",
       "│\u001b[38;5;172m \u001b[0m\u001b[38;5;172mrunning                                                         \u001b[0m\u001b[38;5;172m \u001b[0m│\u001b[38;5;172m \u001b[0m\u001b[38;5;172m                                          24\u001b[0m\u001b[38;5;172m \u001b[0m│\n",
       "│\u001b[38;2;23;147;208m \u001b[0m\u001b[38;2;23;147;208mwaiting                                                         \u001b[0m\u001b[38;2;23;147;208m \u001b[0m│\u001b[38;2;23;147;208m \u001b[0m\u001b[38;2;23;147;208m                                           0\u001b[0m\u001b[38;2;23;147;208m \u001b[0m│\n",
       "│\u001b[38;2;255;7;58m \u001b[0m\u001b[38;2;255;7;58merror                                                           \u001b[0m\u001b[38;2;255;7;58m \u001b[0m│\u001b[38;2;255;7;58m \u001b[0m\u001b[38;2;255;7;58m                                           0\u001b[0m\u001b[38;2;255;7;58m \u001b[0m│\n",
       "│\u001b[38;5;201m \u001b[0m\u001b[38;5;201minvalid                                                         \u001b[0m\u001b[38;5;201m \u001b[0m│\u001b[38;5;201m \u001b[0m\u001b[38;5;201m                                           0\u001b[0m\u001b[38;5;201m \u001b[0m│\n",
       "│\u001b[38;5;129m \u001b[0m\u001b[38;5;129mdeleted                                                         \u001b[0m\u001b[38;5;129m \u001b[0m│\u001b[38;5;129m \u001b[0m\u001b[38;5;129m                                           0\u001b[0m\u001b[38;5;129m \u001b[0m│\n",
       "└──────────────────────────────────────────────────────────────────┴──────────────────────────────────────────────┘\n"
      ]
     },
     "metadata": {},
     "output_type": "display_data"
    },
    {
     "data": {
      "text/plain": [
       "{'running': 24}"
      ]
     },
     "execution_count": 52,
     "metadata": {},
     "output_type": "execute_result"
    }
   ],
   "source": [
    "asc.get_network_status(an_sk)"
   ]
  },
  {
   "cell_type": "code",
   "execution_count": 171,
   "id": "d78652a8-ecee-491e-aedc-c9312682c418",
   "metadata": {},
   "outputs": [
    {
     "data": {
      "text/html": [
       "<pre style=\"white-space:pre;overflow-x:auto;line-height:normal;font-family:Menlo,'DejaVu Sans Mono',consolas,'Courier New',monospace\"><span style=\"font-style: italic\">AlchemicalNetwork-391c0eb68025cf4b83e4d706f189f745-ddotson-tyk2-demo                                               </span>\n",
       "┏━━━━━━━━━━━━━━━━━━━━━━━━━━━━━━━━━━━━━━━━━━━━━━━━━━━━━━━━━━━━━━━━━━┳━━━━━━━━━━━━━━━━━━━━━━━━━━━━━━━━━━━━━━━━━━━━━━┓\n",
       "┃<span style=\"font-weight: bold\"> status                                                           </span>┃<span style=\"font-weight: bold\">                                        count </span>┃\n",
       "┡━━━━━━━━━━━━━━━━━━━━━━━━━━━━━━━━━━━━━━━━━━━━━━━━━━━━━━━━━━━━━━━━━━╇━━━━━━━━━━━━━━━━━━━━━━━━━━━━━━━━━━━━━━━━━━━━━━┩\n",
       "│<span style=\"color: #008000; text-decoration-color: #008000\"> complete                                                         </span>│<span style=\"color: #008000; text-decoration-color: #008000\">                                           12 </span>│\n",
       "│<span style=\"color: #d78700; text-decoration-color: #d78700\"> running                                                          </span>│<span style=\"color: #d78700; text-decoration-color: #d78700\">                                           12 </span>│\n",
       "│<span style=\"color: #1793d0; text-decoration-color: #1793d0\"> waiting                                                          </span>│<span style=\"color: #1793d0; text-decoration-color: #1793d0\">                                            0 </span>│\n",
       "│<span style=\"color: #ff073a; text-decoration-color: #ff073a\"> error                                                            </span>│<span style=\"color: #ff073a; text-decoration-color: #ff073a\">                                            0 </span>│\n",
       "│<span style=\"color: #ff00ff; text-decoration-color: #ff00ff\"> invalid                                                          </span>│<span style=\"color: #ff00ff; text-decoration-color: #ff00ff\">                                            0 </span>│\n",
       "│<span style=\"color: #af00ff; text-decoration-color: #af00ff\"> deleted                                                          </span>│<span style=\"color: #af00ff; text-decoration-color: #af00ff\">                                            0 </span>│\n",
       "└──────────────────────────────────────────────────────────────────┴──────────────────────────────────────────────┘\n",
       "</pre>\n"
      ],
      "text/plain": [
       "\u001b[3mAlchemicalNetwork-391c0eb68025cf4b83e4d706f189f745-ddotson-tyk2-demo                                               \u001b[0m\n",
       "┏━━━━━━━━━━━━━━━━━━━━━━━━━━━━━━━━━━━━━━━━━━━━━━━━━━━━━━━━━━━━━━━━━━┳━━━━━━━━━━━━━━━━━━━━━━━━━━━━━━━━━━━━━━━━━━━━━━┓\n",
       "┃\u001b[1m \u001b[0m\u001b[1mstatus                                                          \u001b[0m\u001b[1m \u001b[0m┃\u001b[1m \u001b[0m\u001b[1m                                       count\u001b[0m\u001b[1m \u001b[0m┃\n",
       "┡━━━━━━━━━━━━━━━━━━━━━━━━━━━━━━━━━━━━━━━━━━━━━━━━━━━━━━━━━━━━━━━━━━╇━━━━━━━━━━━━━━━━━━━━━━━━━━━━━━━━━━━━━━━━━━━━━━┩\n",
       "│\u001b[32m \u001b[0m\u001b[32mcomplete                                                        \u001b[0m\u001b[32m \u001b[0m│\u001b[32m \u001b[0m\u001b[32m                                          12\u001b[0m\u001b[32m \u001b[0m│\n",
       "│\u001b[38;5;172m \u001b[0m\u001b[38;5;172mrunning                                                         \u001b[0m\u001b[38;5;172m \u001b[0m│\u001b[38;5;172m \u001b[0m\u001b[38;5;172m                                          12\u001b[0m\u001b[38;5;172m \u001b[0m│\n",
       "│\u001b[38;2;23;147;208m \u001b[0m\u001b[38;2;23;147;208mwaiting                                                         \u001b[0m\u001b[38;2;23;147;208m \u001b[0m│\u001b[38;2;23;147;208m \u001b[0m\u001b[38;2;23;147;208m                                           0\u001b[0m\u001b[38;2;23;147;208m \u001b[0m│\n",
       "│\u001b[38;2;255;7;58m \u001b[0m\u001b[38;2;255;7;58merror                                                           \u001b[0m\u001b[38;2;255;7;58m \u001b[0m│\u001b[38;2;255;7;58m \u001b[0m\u001b[38;2;255;7;58m                                           0\u001b[0m\u001b[38;2;255;7;58m \u001b[0m│\n",
       "│\u001b[38;5;201m \u001b[0m\u001b[38;5;201minvalid                                                         \u001b[0m\u001b[38;5;201m \u001b[0m│\u001b[38;5;201m \u001b[0m\u001b[38;5;201m                                           0\u001b[0m\u001b[38;5;201m \u001b[0m│\n",
       "│\u001b[38;5;129m \u001b[0m\u001b[38;5;129mdeleted                                                         \u001b[0m\u001b[38;5;129m \u001b[0m│\u001b[38;5;129m \u001b[0m\u001b[38;5;129m                                           0\u001b[0m\u001b[38;5;129m \u001b[0m│\n",
       "└──────────────────────────────────────────────────────────────────┴──────────────────────────────────────────────┘\n"
      ]
     },
     "metadata": {},
     "output_type": "display_data"
    },
    {
     "data": {
      "text/plain": [
       "{'complete': 12, 'running': 12}"
      ]
     },
     "execution_count": 171,
     "metadata": {},
     "output_type": "execute_result"
    }
   ],
   "source": [
    "asc.get_network_status(an_sk)"
   ]
  },
  {
   "cell_type": "markdown",
   "id": "9dd5fce4-fc5d-4bc4-add2-1ecd6d0c893f",
   "metadata": {},
   "source": [
    "### Dealing with errors"
   ]
  },
  {
   "cell_type": "markdown",
   "id": "b0901744-073e-4ea4-9b5f-b9a49eeb3186",
   "metadata": {},
   "source": [
    "Inevitably, some of your `Task`s will encounter problems in execution, either random or systematic errors. When this happens, the `Task` status will be set to `'error'`. To illustrate this, we'll look at an `AlchemicalNetwork` with some failures:"
   ]
  },
  {
   "cell_type": "code",
   "execution_count": 40,
   "id": "2ae49ee5-05ff-4834-9dce-59ff2255b9e2",
   "metadata": {},
   "outputs": [],
   "source": [
    "failed_tasks = asc.query_tasks(scope=Scope('ddotson'), status='error')"
   ]
  },
  {
   "cell_type": "code",
   "execution_count": 41,
   "id": "0f8670fb-efd6-414b-858c-be30d3af742e",
   "metadata": {},
   "outputs": [
    {
     "data": {
      "text/plain": [
       "<ScopedKey('AlchemicalNetwork-391c0eb68025cf4b83e4d706f189f745-ddotson-tyk2-demo')>"
      ]
     },
     "execution_count": 41,
     "metadata": {},
     "output_type": "execute_result"
    }
   ],
   "source": [
    "an2_sk = asc.get_task_networks(failed_tasks[0])[0]\n",
    "an2_sk"
   ]
  },
  {
   "cell_type": "markdown",
   "id": "5821a742-cea8-4b58-9905-e1aac1967c85",
   "metadata": {},
   "source": [
    "We'll get all the `Task`s in this `AlchemicalNetwork` with status `'error'`:"
   ]
  },
  {
   "cell_type": "code",
   "execution_count": 42,
   "id": "2a75797f-4289-4b49-9165-dd7252d055fd",
   "metadata": {},
   "outputs": [
    {
     "data": {
      "text/plain": [
       "[<ScopedKey('Task-925408217d364e7db939d12bb11a4d86-ddotson-tyk2-demo')>,\n",
       " <ScopedKey('Task-f6a8d61822584b019d0e7b8931982c75-ddotson-tyk2-demo')>,\n",
       " <ScopedKey('Task-2bec6ac3ef4f409793521819f440cc41-ddotson-tyk2-demo')>,\n",
       " <ScopedKey('Task-ea7274e03a0f4917aaed6cfb60ec7ee9-ddotson-tyk2-demo')>,\n",
       " <ScopedKey('Task-872b43742ada494aa84f37078b5b44ab-ddotson-tyk2-demo')>]"
      ]
     },
     "execution_count": 42,
     "metadata": {},
     "output_type": "execute_result"
    }
   ],
   "source": [
    "failed_tasks = asc.get_network_tasks(an2_sk, status='error')\n",
    "failed_tasks"
   ]
  },
  {
   "cell_type": "markdown",
   "id": "2d29bb76-91cd-4c20-afbc-e2210e5fc170",
   "metadata": {},
   "source": [
    "We'll choose one, and get all the failed results for it:"
   ]
  },
  {
   "cell_type": "code",
   "execution_count": 43,
   "id": "10bb091c-99f4-4dc6-9e57-bd2e6a780761",
   "metadata": {},
   "outputs": [
    {
     "data": {
      "application/vnd.jupyter.widget-view+json": {
       "model_id": "16504c50b6444cceb90ddd1514b3caad",
       "version_major": 2,
       "version_minor": 0
      },
      "text/plain": [
       "Output()"
      ]
     },
     "metadata": {},
     "output_type": "display_data"
    },
    {
     "data": {
      "text/html": [
       "<pre style=\"white-space:pre;overflow-x:auto;line-height:normal;font-family:Menlo,'DejaVu Sans Mono',consolas,'Courier New',monospace\"></pre>\n"
      ],
      "text/plain": []
     },
     "metadata": {},
     "output_type": "display_data"
    },
    {
     "data": {
      "text/html": [
       "<pre style=\"white-space:pre;overflow-x:auto;line-height:normal;font-family:Menlo,'DejaVu Sans Mono',consolas,'Courier New',monospace\">\n",
       "</pre>\n"
      ],
      "text/plain": [
       "\n"
      ]
     },
     "metadata": {},
     "output_type": "display_data"
    },
    {
     "data": {
      "text/plain": [
       "[<ProtocolDAGResult-f225744ebeed7d17781f2d1ac1a4f08b>]"
      ]
     },
     "execution_count": 43,
     "metadata": {},
     "output_type": "execute_result"
    }
   ],
   "source": [
    "failures = asc.get_task_failures(failed_tasks[0])\n",
    "failures"
   ]
  },
  {
   "cell_type": "markdown",
   "id": "f9b99430-c434-4d5d-a5c7-e60744421a99",
   "metadata": {},
   "source": [
    "Each of these is a `ProtocolDAGResult`, but with at least one `ProtocolUnitFailure`:"
   ]
  },
  {
   "cell_type": "code",
   "execution_count": 44,
   "id": "b37bc64d-8fc1-42c5-8b88-4383c53f91da",
   "metadata": {},
   "outputs": [
    {
     "data": {
      "text/plain": [
       "<ProtocolDAGResult-f225744ebeed7d17781f2d1ac1a4f08b>"
      ]
     },
     "execution_count": 44,
     "metadata": {},
     "output_type": "execute_result"
    }
   ],
   "source": [
    "failures[0]"
   ]
  },
  {
   "cell_type": "code",
   "execution_count": 45,
   "id": "4ffe5d77-f42f-4157-b8d1-d8c85c241bbf",
   "metadata": {},
   "outputs": [
    {
     "data": {
      "text/plain": [
       "[ProtocolUnitFailure(lig_ejm_55 to lig_ejm_43 repeat 0 generation 0)]"
      ]
     },
     "execution_count": 45,
     "metadata": {},
     "output_type": "execute_result"
    }
   ],
   "source": [
    "failures[0].protocol_unit_failures"
   ]
  },
  {
   "cell_type": "markdown",
   "id": "76edada2-2271-4a41-94e5-67a896c43b50",
   "metadata": {},
   "source": [
    "We can introspect the `traceback` on any of the `ProtocolUnitFailure`s present in the `ProtocolDAGResult` to understand what went wrong here:"
   ]
  },
  {
   "cell_type": "code",
   "execution_count": 46,
   "id": "8bba1453-7a1b-4f6d-8f20-05009d22ba76",
   "metadata": {},
   "outputs": [
    {
     "name": "stdout",
     "output_type": "stream",
     "text": [
      "Traceback (most recent call last):\n",
      "  File \"/opt/conda/lib/python3.10/site-packages/gufe/protocols/protocolunit.py\", line 319, in execute\n",
      "    outputs = self._execute(context, **inputs)\n",
      "  File \"/opt/conda/lib/python3.10/site-packages/openfe/protocols/openmm_rfe/equil_rfe_methods.py\", line 684, in _execute\n",
      "    outputs = self.run(scratch_basepath=ctx.scratch,\n",
      "  File \"/opt/conda/lib/python3.10/site-packages/openfe/protocols/openmm_rfe/equil_rfe_methods.py\", line 593, in run\n",
      "    sampler.setup(\n",
      "  File \"/opt/conda/lib/python3.10/site-packages/openfe/protocols/openmm_rfe/_rfe_utils/multistate.py\", line 121, in setup\n",
      "    minimize(compound_thermostate_copy, sampler_state,\n",
      "  File \"/opt/conda/lib/python3.10/site-packages/openfe/protocols/openmm_rfe/_rfe_utils/multistate.py\", line 295, in minimize\n",
      "    context, integrator = dummy_cache.get_context(\n",
      "  File \"/opt/conda/lib/python3.10/site-packages/openmmtools/cache.py\", line 770, in get_context\n",
      "    context = thermodynamic_state.create_context(integrator, self.platform)\n",
      "  File \"/opt/conda/lib/python3.10/site-packages/openmmtools/states.py\", line 1179, in create_context\n",
      "    return openmm.Context(system, integrator, platform)\n",
      "  File \"/opt/conda/lib/python3.10/site-packages/openmm/openmm.py\", line 3749, in __init__\n",
      "    _openmm.Context_swiginit(self, _openmm.new_Context(*args))\n",
      "openmm.OpenMMException: Error initializing CUDA: CUDA_ERROR_UNKNOWN (999) at /home/conda/feedstock_root/build_artifacts/openmm_1682500546897/work/platforms/cuda/src/CudaContext.cpp:140\n",
      "\n"
     ]
    }
   ],
   "source": [
    "print(failures[0].protocol_unit_failures[0].traceback)"
   ]
  },
  {
   "cell_type": "markdown",
   "id": "1f715ef3-b1a0-456a-ac8d-51ee5b6897eb",
   "metadata": {},
   "source": [
    "In this case, it like it may be due to a configuration issue on a compute resource our `Task`s are landing on."
   ]
  },
  {
   "cell_type": "markdown",
   "id": "1a78576b-678d-4ab8-916e-90a771f24f4b",
   "metadata": {},
   "source": [
    "If we wish to re-run an `'error'`ed `Task`, we can do so by setting its status back to `'waiting'`:"
   ]
  },
  {
   "cell_type": "code",
   "execution_count": 58,
   "id": "4c661612-7cfa-4b55-95d0-713d8fcbee22",
   "metadata": {},
   "outputs": [
    {
     "data": {
      "text/plain": [
       "[<ScopedKey('Task-925408217d364e7db939d12bb11a4d86-ddotson-tyk2-demo')>]"
      ]
     },
     "execution_count": 58,
     "metadata": {},
     "output_type": "execute_result"
    }
   ],
   "source": [
    "asc.set_tasks_status(failed_tasks[:1], 'waiting')"
   ]
  },
  {
   "cell_type": "markdown",
   "id": "c7ccd13c-e1c2-4de5-ae17-c3b6177aa44f",
   "metadata": {},
   "source": [
    "## Gathering and analyzing results"
   ]
  },
  {
   "cell_type": "markdown",
   "id": "3d696f2b-3956-468b-bcf4-1553943c37c9",
   "metadata": {},
   "source": [
    "We can gather results for each `Transformation` with:"
   ]
  },
  {
   "cell_type": "code",
   "execution_count": 63,
   "id": "704c9ddd-be00-43c3-9bc1-2ce99fb3fe02",
   "metadata": {},
   "outputs": [],
   "source": [
    "results = dict()\n",
    "for tf_sk in asc.get_network_transformations(an_sk):\n",
    "    results[str(tf_sk)] = asc.get_transformation_results(tf_sk, visualize=False)"
   ]
  },
  {
   "cell_type": "code",
   "execution_count": 64,
   "id": "816d46a2-178b-459a-80a5-357b5438462a",
   "metadata": {},
   "outputs": [
    {
     "data": {
      "text/plain": [
       "{'Transformation-3bde3c547da7c4db25af92e94f34efce-ddotson-tyk2-demo': <RelativeHybridTopologyProtocolResult-bf72eafe8b0d7564ccb95b232fddb38e>,\n",
       " 'Transformation-3d1c7ab3c70341bc88fc91112689a648-ddotson-tyk2-demo': <RelativeHybridTopologyProtocolResult-9086a10bf1fdea0717c4c8b8fb460201>,\n",
       " 'Transformation-333a2629c325b4f257b416c2431d9132-ddotson-tyk2-demo': <RelativeHybridTopologyProtocolResult-d30fa20b06330cacc7608a030a18d347>,\n",
       " 'Transformation-086a259a37b0f93979cc23dc31344aa8-ddotson-tyk2-demo': <RelativeHybridTopologyProtocolResult-c6bbd02888eaee71cb463aaac6611e17>,\n",
       " 'Transformation-553107db824ee8a99f30fb42cbe5798c-ddotson-tyk2-demo': <RelativeHybridTopologyProtocolResult-814a45e31997809a16f376e3e1823554>,\n",
       " 'Transformation-08f4c68a8e178d698e59cc1a366e3415-ddotson-tyk2-demo': <RelativeHybridTopologyProtocolResult-743b1ae43bc1d295e9c02efcb57f192a>,\n",
       " 'Transformation-c244dffbafa7e4e95ff4c0a03a54888b-ddotson-tyk2-demo': <RelativeHybridTopologyProtocolResult-4225282c756a0bd7479fba9b59835b16>,\n",
       " 'Transformation-7080ba2b294fbb443f7c8fd0432523b8-ddotson-tyk2-demo': <RelativeHybridTopologyProtocolResult-dc17ced0d2bbd9046218333e53a98ec1>,\n",
       " 'Transformation-2168cd5e6257debd9e31a7dea8f865db-ddotson-tyk2-demo': <RelativeHybridTopologyProtocolResult-133dde7fe0199c3945bf6c8ea75b4129>,\n",
       " 'Transformation-6fedaff17af81e8f8cd903ff54f4fa43-ddotson-tyk2-demo': <RelativeHybridTopologyProtocolResult-cde24b9fd763d96626cfbfdcfad505ba>,\n",
       " 'Transformation-058b41226978833e875145eca60fa44d-ddotson-tyk2-demo': <RelativeHybridTopologyProtocolResult-05caf5d511c2a24fa33f80bbaecde514>,\n",
       " 'Transformation-a34291c782001508c20b0f8fbd8e8768-ddotson-tyk2-demo': <RelativeHybridTopologyProtocolResult-0fd9c6d028f77ba855f5d294d93bd345>,\n",
       " 'Transformation-be3971fa5275fae3d0767ef387e4f673-ddotson-tyk2-demo': <RelativeHybridTopologyProtocolResult-53b9e0a65eb3786c03af3d8fb1f4f90f>,\n",
       " 'Transformation-c824272678b20bb10b0b3ed82a75cba7-ddotson-tyk2-demo': <RelativeHybridTopologyProtocolResult-33301211bbd21474aa96630bb3581308>,\n",
       " 'Transformation-72f58e6ef2cc85e52de765b797fb935b-ddotson-tyk2-demo': <RelativeHybridTopologyProtocolResult-bdf9c01eafb0d496f080e08d94a2f02f>,\n",
       " 'Transformation-d5634110bde446e3c0135a213ca126be-ddotson-tyk2-demo': <RelativeHybridTopologyProtocolResult-443e1c71dd24694270c447380bc6e61d>,\n",
       " 'Transformation-cfc64db96341e6c6fe78b31bc45086fe-ddotson-tyk2-demo': <RelativeHybridTopologyProtocolResult-fc59485845be5bd2162258749b754996>,\n",
       " 'Transformation-f549eb13fa5c5aa43a4b0581509ec17b-ddotson-tyk2-demo': <RelativeHybridTopologyProtocolResult-5c6961ee6e45f0abdef226544e52c8d2>,\n",
       " 'Transformation-22f055e336144e1192a54fc36b008761-ddotson-tyk2-demo': <RelativeHybridTopologyProtocolResult-2698beb151d7219357d97867dbfc94d3>,\n",
       " 'Transformation-954a54426ba12cd7f97b163692de84b3-ddotson-tyk2-demo': <RelativeHybridTopologyProtocolResult-b773db025bc6d8846fdd06234627ef17>,\n",
       " 'Transformation-43fcc3ea77628d04acffbfafaf7289f3-ddotson-tyk2-demo': <RelativeHybridTopologyProtocolResult-3cab708dbc726710a4557605dc8696f8>,\n",
       " 'Transformation-1ed12e0907b854bd0810ebb8bce91bbd-ddotson-tyk2-demo': <RelativeHybridTopologyProtocolResult-d6c0a98924639738c8686a64239dab66>,\n",
       " 'Transformation-e85c3cfe5386d9e53c4593acf52df560-ddotson-tyk2-demo': <RelativeHybridTopologyProtocolResult-82a2251fe7faaec89bff4d49f74c6f2e>,\n",
       " 'Transformation-1d104d98ba12a95e13d2e086f1839b51-ddotson-tyk2-demo': <RelativeHybridTopologyProtocolResult-52f713860a8466dae1b2f2e58d3eaf6c>}"
      ]
     },
     "execution_count": 64,
     "metadata": {},
     "output_type": "execute_result"
    }
   ],
   "source": [
    "results"
   ]
  },
  {
   "cell_type": "code",
   "execution_count": 68,
   "id": "35d41826-c6fa-44fe-aec9-45e85bd5d30c",
   "metadata": {},
   "outputs": [
    {
     "data": {
      "text/html": [
       "39.7580051742956 kilocalorie/mole"
      ],
      "text/latex": [
       "$39.7580051742956\\ \\frac{\\mathrm{kilocalorie}}{\\mathrm{mole}}$"
      ],
      "text/plain": [
       "39.7580051742956 <Unit('kilocalorie / mole')>"
      ]
     },
     "execution_count": 68,
     "metadata": {},
     "output_type": "execute_result"
    }
   ],
   "source": [
    "results['Transformation-08f4c68a8e178d698e59cc1a366e3415-ddotson-tyk2-demo'].get_estimate()"
   ]
  },
  {
   "cell_type": "code",
   "execution_count": 69,
   "id": "88efaebb-a47b-4a53-b6b9-382bcfc2b1ec",
   "metadata": {},
   "outputs": [
    {
     "data": {
      "text/html": [
       "0.0 kilocalorie/mole"
      ],
      "text/latex": [
       "$0.0\\ \\frac{\\mathrm{kilocalorie}}{\\mathrm{mole}}$"
      ],
      "text/plain": [
       "0.0 <Unit('kilocalorie / mole')>"
      ]
     },
     "execution_count": 69,
     "metadata": {},
     "output_type": "execute_result"
    }
   ],
   "source": [
    "results['Transformation-08f4c68a8e178d698e59cc1a366e3415-ddotson-tyk2-demo'].get_uncertainty()"
   ]
  },
  {
   "cell_type": "markdown",
   "id": "60d404e8-11ab-4ead-b0db-eddaca9e2c51",
   "metadata": {},
   "source": [
    "In this case, we have only a single `ProtocolDAGResult` for each `Transformation` (since we created and actioned only 1 `Task` for each), and so the uncertainty (standard deviation between replicate simulations) given for this `ProtocolResult` is 0.0. The `RelativeHybridTopologyProtocol` combines `ProtocolDAGResult` values statistically, reducing the uncertainty but not increasing convergence with additional `Task`s\n",
    "\n",
    "By contrast other `Protocol`s, such as the `perses` `NonEquilibriumCyclingProtocol`, will improve convergence with more `Task`s on a given `Transformation`; in the case of the `NonEquilibriumCyclingProtocol`, the non-equilibrium work values for each `ProtocolDAGResult` are combined together and fed to `BAR` to produce a single estimate with its own uncertainty."
   ]
  },
  {
   "cell_type": "markdown",
   "id": "ec2ca825-c330-4c69-9079-82b22ee53dc1",
   "metadata": {},
   "source": [
    "Let's create and action 2 additional `Task`s for each `Transformation`:"
   ]
  },
  {
   "cell_type": "code",
   "execution_count": 58,
   "id": "78a17d4c-da4d-4879-a7d1-ae81f158fc00",
   "metadata": {},
   "outputs": [
    {
     "data": {
      "text/plain": [
       "[<ScopedKey('Task-c3e9b3eb05ee42f4a4b5707c926e50e6-ddotson-tyk2-demo')>,\n",
       " <ScopedKey('Task-cfe6f9990ad945169e921025127a88a8-ddotson-tyk2-demo')>,\n",
       " <ScopedKey('Task-524f72e1c0e74e0d8ca7a01c30f1aad1-ddotson-tyk2-demo')>,\n",
       " <ScopedKey('Task-777c84bc65944a9a9801469812d1678c-ddotson-tyk2-demo')>,\n",
       " <ScopedKey('Task-925408217d364e7db939d12bb11a4d86-ddotson-tyk2-demo')>,\n",
       " <ScopedKey('Task-12faee45bfc04901ac1025dbde88eee7-ddotson-tyk2-demo')>,\n",
       " <ScopedKey('Task-36b153686a6b40d696c1c157cef8183e-ddotson-tyk2-demo')>,\n",
       " <ScopedKey('Task-d3c6125eb386459db42e6f7282c93d4e-ddotson-tyk2-demo')>,\n",
       " <ScopedKey('Task-e25628e703344d53b8ccef6788fc5600-ddotson-tyk2-demo')>,\n",
       " <ScopedKey('Task-6a70fe191bfd473685d8a4b20e1ae6c0-ddotson-tyk2-demo')>,\n",
       " <ScopedKey('Task-2bec6ac3ef4f409793521819f440cc41-ddotson-tyk2-demo')>,\n",
       " <ScopedKey('Task-f6a8d61822584b019d0e7b8931982c75-ddotson-tyk2-demo')>,\n",
       " <ScopedKey('Task-df47335dc8fa4d86a29d0d760aff39a8-ddotson-tyk2-demo')>,\n",
       " <ScopedKey('Task-295696c8358e470eade7268e5587c02f-ddotson-tyk2-demo')>,\n",
       " <ScopedKey('Task-4f5a1da5d35d4aeba8df6a6f53e8d246-ddotson-tyk2-demo')>,\n",
       " <ScopedKey('Task-a868821da8114c1c9a54a1189a27ca9d-ddotson-tyk2-demo')>,\n",
       " <ScopedKey('Task-b311aaaeffab4da6b575c690b4c93815-ddotson-tyk2-demo')>,\n",
       " <ScopedKey('Task-e875aeec0c3644f896590115991c332f-ddotson-tyk2-demo')>,\n",
       " <ScopedKey('Task-c42b3c12857b4b93bbbaf2ff20613538-ddotson-tyk2-demo')>,\n",
       " <ScopedKey('Task-33c23fc19d5941f69900912886da3743-ddotson-tyk2-demo')>,\n",
       " <ScopedKey('Task-398cd7cf6db24e34860cd1ed4d81343c-ddotson-tyk2-demo')>,\n",
       " <ScopedKey('Task-6d02732e610f4da0964fde17567f14bb-ddotson-tyk2-demo')>,\n",
       " <ScopedKey('Task-27ea923291f34ddab785c31c705d267a-ddotson-tyk2-demo')>,\n",
       " <ScopedKey('Task-021081e6834f432da7a4b076c0c38652-ddotson-tyk2-demo')>,\n",
       " <ScopedKey('Task-b051dde66ee44732832a83bbcfaee6ae-ddotson-tyk2-demo')>,\n",
       " <ScopedKey('Task-9c0d7f9bdac94bf2af6f68033095cdb1-ddotson-tyk2-demo')>,\n",
       " <ScopedKey('Task-45f7404421464e8d81b31a534cd8b02c-ddotson-tyk2-demo')>,\n",
       " <ScopedKey('Task-12a8ed6085e0456595c797cc9214e834-ddotson-tyk2-demo')>,\n",
       " <ScopedKey('Task-872b43742ada494aa84f37078b5b44ab-ddotson-tyk2-demo')>,\n",
       " <ScopedKey('Task-4fa773121ab34093b646ed4bfde8ca31-ddotson-tyk2-demo')>,\n",
       " <ScopedKey('Task-efe513cd8d53486298e328f68d8c20a9-ddotson-tyk2-demo')>,\n",
       " <ScopedKey('Task-4ff6d4768c8b4508b9b67f7052ce5da3-ddotson-tyk2-demo')>,\n",
       " <ScopedKey('Task-54fb4aca85eb4c179019eb287a6f2069-ddotson-tyk2-demo')>,\n",
       " <ScopedKey('Task-4ff317957deb4645a6f951b61d0ee39b-ddotson-tyk2-demo')>,\n",
       " <ScopedKey('Task-1aa2e5e447ea47768e15a52835f2e425-ddotson-tyk2-demo')>,\n",
       " <ScopedKey('Task-0c4ed45b90b54317b6d1277da2fdfc26-ddotson-tyk2-demo')>,\n",
       " <ScopedKey('Task-157ad2a123004e1e81c47d5b7b9bb596-ddotson-tyk2-demo')>,\n",
       " <ScopedKey('Task-8d58385de7d14cddba67410f51b2d8ce-ddotson-tyk2-demo')>,\n",
       " <ScopedKey('Task-dccefd4922f948bc90b9b268dd6fa7a5-ddotson-tyk2-demo')>,\n",
       " <ScopedKey('Task-0046ebac4d9b45ffb0a5e2225fd243be-ddotson-tyk2-demo')>,\n",
       " <ScopedKey('Task-664872393e2b4dbfb51d1576b2aad58e-ddotson-tyk2-demo')>,\n",
       " <ScopedKey('Task-3a57f46ca03e4509ae024cdeadc913d2-ddotson-tyk2-demo')>,\n",
       " <ScopedKey('Task-d3254ac154a74d2783210004fd25d404-ddotson-tyk2-demo')>,\n",
       " <ScopedKey('Task-204d691d97c045c781b0e7d9d337afd7-ddotson-tyk2-demo')>,\n",
       " <ScopedKey('Task-9928b0bf60ee49e8ba8abc57977900ec-ddotson-tyk2-demo')>,\n",
       " <ScopedKey('Task-f1d780de14744c63b9b1ab942d24372c-ddotson-tyk2-demo')>,\n",
       " <ScopedKey('Task-9662b2cc1a58428b9ec0fab488e8dcee-ddotson-tyk2-demo')>,\n",
       " <ScopedKey('Task-d12329843c5a42ab9e5cca80eed774ba-ddotson-tyk2-demo')>]"
      ]
     },
     "execution_count": 58,
     "metadata": {},
     "output_type": "execute_result"
    }
   ],
   "source": [
    "tasks = []\n",
    "for tf_sk in asc.get_network_transformations(an_sk):\n",
    "    tasks.extend(asc.create_tasks(tf_sk, count=2))\n",
    "\n",
    "asc.action_tasks(tasks, an_sk)"
   ]
  },
  {
   "cell_type": "code",
   "execution_count": 75,
   "id": "7416399a-a06c-461f-a1ae-739bd46abcdb",
   "metadata": {},
   "outputs": [
    {
     "data": {
      "text/html": [
       "<pre style=\"white-space:pre;overflow-x:auto;line-height:normal;font-family:Menlo,'DejaVu Sans Mono',consolas,'Courier New',monospace\"><span style=\"font-style: italic\">AlchemicalNetwork-391c0eb68025cf4b83e4d706f189f745-ddotson-tyk2-demo                                               </span>\n",
       "┏━━━━━━━━━━━━━━━━━━━━━━━━━━━━━━━━━━━━━━━━━━━━━━━━━━━━━━━━━━━━━━━━━━┳━━━━━━━━━━━━━━━━━━━━━━━━━━━━━━━━━━━━━━━━━━━━━━┓\n",
       "┃<span style=\"font-weight: bold\"> status                                                           </span>┃<span style=\"font-weight: bold\">                                        count </span>┃\n",
       "┡━━━━━━━━━━━━━━━━━━━━━━━━━━━━━━━━━━━━━━━━━━━━━━━━━━━━━━━━━━━━━━━━━━╇━━━━━━━━━━━━━━━━━━━━━━━━━━━━━━━━━━━━━━━━━━━━━━┩\n",
       "│<span style=\"color: #008000; text-decoration-color: #008000\"> complete                                                         </span>│<span style=\"color: #008000; text-decoration-color: #008000\">                                           19 </span>│\n",
       "│<span style=\"color: #d78700; text-decoration-color: #d78700\"> running                                                          </span>│<span style=\"color: #d78700; text-decoration-color: #d78700\">                                           48 </span>│\n",
       "│<span style=\"color: #1793d0; text-decoration-color: #1793d0\"> waiting                                                          </span>│<span style=\"color: #1793d0; text-decoration-color: #1793d0\">                                            0 </span>│\n",
       "│<span style=\"color: #ff073a; text-decoration-color: #ff073a\"> error                                                            </span>│<span style=\"color: #ff073a; text-decoration-color: #ff073a\">                                            5 </span>│\n",
       "│<span style=\"color: #ff00ff; text-decoration-color: #ff00ff\"> invalid                                                          </span>│<span style=\"color: #ff00ff; text-decoration-color: #ff00ff\">                                            0 </span>│\n",
       "│<span style=\"color: #af00ff; text-decoration-color: #af00ff\"> deleted                                                          </span>│<span style=\"color: #af00ff; text-decoration-color: #af00ff\">                                            0 </span>│\n",
       "└──────────────────────────────────────────────────────────────────┴──────────────────────────────────────────────┘\n",
       "</pre>\n"
      ],
      "text/plain": [
       "\u001b[3mAlchemicalNetwork-391c0eb68025cf4b83e4d706f189f745-ddotson-tyk2-demo                                               \u001b[0m\n",
       "┏━━━━━━━━━━━━━━━━━━━━━━━━━━━━━━━━━━━━━━━━━━━━━━━━━━━━━━━━━━━━━━━━━━┳━━━━━━━━━━━━━━━━━━━━━━━━━━━━━━━━━━━━━━━━━━━━━━┓\n",
       "┃\u001b[1m \u001b[0m\u001b[1mstatus                                                          \u001b[0m\u001b[1m \u001b[0m┃\u001b[1m \u001b[0m\u001b[1m                                       count\u001b[0m\u001b[1m \u001b[0m┃\n",
       "┡━━━━━━━━━━━━━━━━━━━━━━━━━━━━━━━━━━━━━━━━━━━━━━━━━━━━━━━━━━━━━━━━━━╇━━━━━━━━━━━━━━━━━━━━━━━━━━━━━━━━━━━━━━━━━━━━━━┩\n",
       "│\u001b[32m \u001b[0m\u001b[32mcomplete                                                        \u001b[0m\u001b[32m \u001b[0m│\u001b[32m \u001b[0m\u001b[32m                                          19\u001b[0m\u001b[32m \u001b[0m│\n",
       "│\u001b[38;5;172m \u001b[0m\u001b[38;5;172mrunning                                                         \u001b[0m\u001b[38;5;172m \u001b[0m│\u001b[38;5;172m \u001b[0m\u001b[38;5;172m                                          48\u001b[0m\u001b[38;5;172m \u001b[0m│\n",
       "│\u001b[38;2;23;147;208m \u001b[0m\u001b[38;2;23;147;208mwaiting                                                         \u001b[0m\u001b[38;2;23;147;208m \u001b[0m│\u001b[38;2;23;147;208m \u001b[0m\u001b[38;2;23;147;208m                                           0\u001b[0m\u001b[38;2;23;147;208m \u001b[0m│\n",
       "│\u001b[38;2;255;7;58m \u001b[0m\u001b[38;2;255;7;58merror                                                           \u001b[0m\u001b[38;2;255;7;58m \u001b[0m│\u001b[38;2;255;7;58m \u001b[0m\u001b[38;2;255;7;58m                                           5\u001b[0m\u001b[38;2;255;7;58m \u001b[0m│\n",
       "│\u001b[38;5;201m \u001b[0m\u001b[38;5;201minvalid                                                         \u001b[0m\u001b[38;5;201m \u001b[0m│\u001b[38;5;201m \u001b[0m\u001b[38;5;201m                                           0\u001b[0m\u001b[38;5;201m \u001b[0m│\n",
       "│\u001b[38;5;129m \u001b[0m\u001b[38;5;129mdeleted                                                         \u001b[0m\u001b[38;5;129m \u001b[0m│\u001b[38;5;129m \u001b[0m\u001b[38;5;129m                                           0\u001b[0m\u001b[38;5;129m \u001b[0m│\n",
       "└──────────────────────────────────────────────────────────────────┴──────────────────────────────────────────────┘\n"
      ]
     },
     "metadata": {},
     "output_type": "display_data"
    },
    {
     "data": {
      "text/plain": [
       "{'complete': 19, 'running': 48, 'error': 5}"
      ]
     },
     "execution_count": 75,
     "metadata": {},
     "output_type": "execute_result"
    }
   ],
   "source": [
    "asc.get_network_status(an_sk)"
   ]
  },
  {
   "cell_type": "markdown",
   "id": "082fbe22-3579-4900-8567-f0eda0e94ce7",
   "metadata": {},
   "source": [
    "As we watch our `Task`s `'complete'` or `'error'`, we can introspect and deal with errors as before:"
   ]
  },
  {
   "cell_type": "code",
   "execution_count": 76,
   "id": "892122f7-95c9-47e0-8931-f15ab9f2efae",
   "metadata": {},
   "outputs": [
    {
     "data": {
      "text/plain": [
       "[<ScopedKey('Task-925408217d364e7db939d12bb11a4d86-ddotson-tyk2-demo')>,\n",
       " <ScopedKey('Task-f6a8d61822584b019d0e7b8931982c75-ddotson-tyk2-demo')>,\n",
       " <ScopedKey('Task-2bec6ac3ef4f409793521819f440cc41-ddotson-tyk2-demo')>,\n",
       " <ScopedKey('Task-ea7274e03a0f4917aaed6cfb60ec7ee9-ddotson-tyk2-demo')>,\n",
       " <ScopedKey('Task-872b43742ada494aa84f37078b5b44ab-ddotson-tyk2-demo')>]"
      ]
     },
     "execution_count": 76,
     "metadata": {},
     "output_type": "execute_result"
    }
   ],
   "source": [
    "asc.get_network_tasks(an_sk, status='error')"
   ]
  },
  {
   "cell_type": "code",
   "execution_count": 78,
   "id": "cbfe1d37-0934-4121-abbb-09d7c1f19396",
   "metadata": {},
   "outputs": [
    {
     "data": {
      "application/vnd.jupyter.widget-view+json": {
       "model_id": "51c7eaf8708b4a99ba637c22d4c621a3",
       "version_major": 2,
       "version_minor": 0
      },
      "text/plain": [
       "Output()"
      ]
     },
     "metadata": {},
     "output_type": "display_data"
    },
    {
     "data": {
      "text/html": [
       "<pre style=\"white-space:pre;overflow-x:auto;line-height:normal;font-family:Menlo,'DejaVu Sans Mono',consolas,'Courier New',monospace\"></pre>\n"
      ],
      "text/plain": []
     },
     "metadata": {},
     "output_type": "display_data"
    },
    {
     "data": {
      "text/html": [
       "<pre style=\"white-space:pre;overflow-x:auto;line-height:normal;font-family:Menlo,'DejaVu Sans Mono',consolas,'Courier New',monospace\">\n",
       "</pre>\n"
      ],
      "text/plain": [
       "\n"
      ]
     },
     "metadata": {},
     "output_type": "display_data"
    },
    {
     "name": "stdout",
     "output_type": "stream",
     "text": [
      "Traceback (most recent call last):\n",
      "  File \"/opt/conda/lib/python3.10/site-packages/gufe/protocols/protocolunit.py\", line 319, in execute\n",
      "    outputs = self._execute(context, **inputs)\n",
      "  File \"/opt/conda/lib/python3.10/site-packages/openfe/protocols/openmm_rfe/equil_rfe_methods.py\", line 684, in _execute\n",
      "    outputs = self.run(scratch_basepath=ctx.scratch,\n",
      "  File \"/opt/conda/lib/python3.10/site-packages/openfe/protocols/openmm_rfe/equil_rfe_methods.py\", line 593, in run\n",
      "    sampler.setup(\n",
      "  File \"/opt/conda/lib/python3.10/site-packages/openfe/protocols/openmm_rfe/_rfe_utils/multistate.py\", line 121, in setup\n",
      "    minimize(compound_thermostate_copy, sampler_state,\n",
      "  File \"/opt/conda/lib/python3.10/site-packages/openfe/protocols/openmm_rfe/_rfe_utils/multistate.py\", line 295, in minimize\n",
      "    context, integrator = dummy_cache.get_context(\n",
      "  File \"/opt/conda/lib/python3.10/site-packages/openmmtools/cache.py\", line 770, in get_context\n",
      "    context = thermodynamic_state.create_context(integrator, self.platform)\n",
      "  File \"/opt/conda/lib/python3.10/site-packages/openmmtools/states.py\", line 1179, in create_context\n",
      "    return openmm.Context(system, integrator, platform)\n",
      "  File \"/opt/conda/lib/python3.10/site-packages/openmm/openmm.py\", line 3749, in __init__\n",
      "    _openmm.Context_swiginit(self, _openmm.new_Context(*args))\n",
      "openmm.OpenMMException: Error initializing CUDA: CUDA_ERROR_UNKNOWN (999) at /home/conda/feedstock_root/build_artifacts/openmm_1682500546897/work/platforms/cuda/src/CudaContext.cpp:140\n",
      "\n"
     ]
    }
   ],
   "source": [
    "print(asc.get_task_failures(asc.get_network_tasks(an_sk, status='error')[0])[0].protocol_unit_failures[0].traceback)"
   ]
  },
  {
   "cell_type": "code",
   "execution_count": 222,
   "id": "42b373ed-2ec3-4e10-a551-034fdd2b5ed6",
   "metadata": {},
   "outputs": [
    {
     "name": "stderr",
     "output_type": "stream",
     "text": [
      "INFO:\tHTTP Request: POST http://api.alchemiscale.internal/bulk/tasks/status/set \"HTTP/1.1 200 OK\"\n"
     ]
    },
    {
     "data": {
      "text/plain": [
       "[<ScopedKey('Task-7a1996f4f1ad475280675e7c3779177f-ddotson-tyk2-demo')>,\n",
       " <ScopedKey('Task-6eb1962189f344a99842fa03e7deee39-ddotson-tyk2-demo')>]"
      ]
     },
     "execution_count": 222,
     "metadata": {},
     "output_type": "execute_result"
    }
   ],
   "source": [
    "asc.set_tasks_status(asc.get_network_tasks(an_sk, status='error'), 'waiting')"
   ]
  },
  {
   "cell_type": "code",
   "execution_count": 86,
   "id": "55c733aa-3e41-481c-8f63-df7b2c8a79de",
   "metadata": {},
   "outputs": [
    {
     "data": {
      "text/html": [
       "<pre style=\"white-space:pre;overflow-x:auto;line-height:normal;font-family:Menlo,'DejaVu Sans Mono',consolas,'Courier New',monospace\"><span style=\"font-style: italic\">AlchemicalNetwork-391c0eb68025cf4b83e4d706f189f745-ddotson-tyk2-demo                                               </span>\n",
       "┏━━━━━━━━━━━━━━━━━━━━━━━━━━━━━━━━━━━━━━━━━━━━━━━━━━━━━━━━━━━━━━━━━━┳━━━━━━━━━━━━━━━━━━━━━━━━━━━━━━━━━━━━━━━━━━━━━━┓\n",
       "┃<span style=\"font-weight: bold\"> status                                                           </span>┃<span style=\"font-weight: bold\">                                        count </span>┃\n",
       "┡━━━━━━━━━━━━━━━━━━━━━━━━━━━━━━━━━━━━━━━━━━━━━━━━━━━━━━━━━━━━━━━━━━╇━━━━━━━━━━━━━━━━━━━━━━━━━━━━━━━━━━━━━━━━━━━━━━┩\n",
       "│<span style=\"color: #008000; text-decoration-color: #008000\"> complete                                                         </span>│<span style=\"color: #008000; text-decoration-color: #008000\">                                           66 </span>│\n",
       "│<span style=\"color: #d78700; text-decoration-color: #d78700\"> running                                                          </span>│<span style=\"color: #d78700; text-decoration-color: #d78700\">                                            1 </span>│\n",
       "│<span style=\"color: #1793d0; text-decoration-color: #1793d0\"> waiting                                                          </span>│<span style=\"color: #1793d0; text-decoration-color: #1793d0\">                                            0 </span>│\n",
       "│<span style=\"color: #ff073a; text-decoration-color: #ff073a\"> error                                                            </span>│<span style=\"color: #ff073a; text-decoration-color: #ff073a\">                                            5 </span>│\n",
       "│<span style=\"color: #ff00ff; text-decoration-color: #ff00ff\"> invalid                                                          </span>│<span style=\"color: #ff00ff; text-decoration-color: #ff00ff\">                                            0 </span>│\n",
       "│<span style=\"color: #af00ff; text-decoration-color: #af00ff\"> deleted                                                          </span>│<span style=\"color: #af00ff; text-decoration-color: #af00ff\">                                            0 </span>│\n",
       "└──────────────────────────────────────────────────────────────────┴──────────────────────────────────────────────┘\n",
       "</pre>\n"
      ],
      "text/plain": [
       "\u001b[3mAlchemicalNetwork-391c0eb68025cf4b83e4d706f189f745-ddotson-tyk2-demo                                               \u001b[0m\n",
       "┏━━━━━━━━━━━━━━━━━━━━━━━━━━━━━━━━━━━━━━━━━━━━━━━━━━━━━━━━━━━━━━━━━━┳━━━━━━━━━━━━━━━━━━━━━━━━━━━━━━━━━━━━━━━━━━━━━━┓\n",
       "┃\u001b[1m \u001b[0m\u001b[1mstatus                                                          \u001b[0m\u001b[1m \u001b[0m┃\u001b[1m \u001b[0m\u001b[1m                                       count\u001b[0m\u001b[1m \u001b[0m┃\n",
       "┡━━━━━━━━━━━━━━━━━━━━━━━━━━━━━━━━━━━━━━━━━━━━━━━━━━━━━━━━━━━━━━━━━━╇━━━━━━━━━━━━━━━━━━━━━━━━━━━━━━━━━━━━━━━━━━━━━━┩\n",
       "│\u001b[32m \u001b[0m\u001b[32mcomplete                                                        \u001b[0m\u001b[32m \u001b[0m│\u001b[32m \u001b[0m\u001b[32m                                          66\u001b[0m\u001b[32m \u001b[0m│\n",
       "│\u001b[38;5;172m \u001b[0m\u001b[38;5;172mrunning                                                         \u001b[0m\u001b[38;5;172m \u001b[0m│\u001b[38;5;172m \u001b[0m\u001b[38;5;172m                                           1\u001b[0m\u001b[38;5;172m \u001b[0m│\n",
       "│\u001b[38;2;23;147;208m \u001b[0m\u001b[38;2;23;147;208mwaiting                                                         \u001b[0m\u001b[38;2;23;147;208m \u001b[0m│\u001b[38;2;23;147;208m \u001b[0m\u001b[38;2;23;147;208m                                           0\u001b[0m\u001b[38;2;23;147;208m \u001b[0m│\n",
       "│\u001b[38;2;255;7;58m \u001b[0m\u001b[38;2;255;7;58merror                                                           \u001b[0m\u001b[38;2;255;7;58m \u001b[0m│\u001b[38;2;255;7;58m \u001b[0m\u001b[38;2;255;7;58m                                           5\u001b[0m\u001b[38;2;255;7;58m \u001b[0m│\n",
       "│\u001b[38;5;201m \u001b[0m\u001b[38;5;201minvalid                                                         \u001b[0m\u001b[38;5;201m \u001b[0m│\u001b[38;5;201m \u001b[0m\u001b[38;5;201m                                           0\u001b[0m\u001b[38;5;201m \u001b[0m│\n",
       "│\u001b[38;5;129m \u001b[0m\u001b[38;5;129mdeleted                                                         \u001b[0m\u001b[38;5;129m \u001b[0m│\u001b[38;5;129m \u001b[0m\u001b[38;5;129m                                           0\u001b[0m\u001b[38;5;129m \u001b[0m│\n",
       "└──────────────────────────────────────────────────────────────────┴──────────────────────────────────────────────┘\n"
      ]
     },
     "metadata": {},
     "output_type": "display_data"
    },
    {
     "data": {
      "text/plain": [
       "{'complete': 66, 'error': 5, 'running': 1}"
      ]
     },
     "execution_count": 86,
     "metadata": {},
     "output_type": "execute_result"
    }
   ],
   "source": [
    "asc.get_network_status(an_sk)"
   ]
  },
  {
   "cell_type": "markdown",
   "id": "aa4146ff-baf8-4af1-b84f-12c0368631a3",
   "metadata": {},
   "source": [
    "Finally, with more sampling, we can pull our results again, this time with more `ProtocolDAGResult`s included in the `ProtocolResult` for our `Transformation`s:"
   ]
  },
  {
   "cell_type": "code",
   "execution_count": 34,
   "id": "43aa0be9-4306-48f8-a3c6-e6851b05d553",
   "metadata": {},
   "outputs": [],
   "source": [
    "results = dict()\n",
    "for tf_sk in asc.get_network_transformations(an_sk):\n",
    "    results[str(tf_sk)] = asc.get_transformation_results(tf_sk, visualize=False)"
   ]
  },
  {
   "cell_type": "code",
   "execution_count": 35,
   "id": "bd6409b5-1ec9-469e-b7e7-5d0dbb2c29b3",
   "metadata": {},
   "outputs": [
    {
     "data": {
      "text/plain": [
       "{'Transformation-3bde3c547da7c4db25af92e94f34efce-ddotson-tyk2-demo': <RelativeHybridTopologyProtocolResult-bf72eafe8b0d7564ccb95b232fddb38e>,\n",
       " 'Transformation-3d1c7ab3c70341bc88fc91112689a648-ddotson-tyk2-demo': <RelativeHybridTopologyProtocolResult-9086a10bf1fdea0717c4c8b8fb460201>,\n",
       " 'Transformation-333a2629c325b4f257b416c2431d9132-ddotson-tyk2-demo': <RelativeHybridTopologyProtocolResult-c854958400ed108d8522edcb444c3e99>,\n",
       " 'Transformation-086a259a37b0f93979cc23dc31344aa8-ddotson-tyk2-demo': <RelativeHybridTopologyProtocolResult-c6bbd02888eaee71cb463aaac6611e17>,\n",
       " 'Transformation-553107db824ee8a99f30fb42cbe5798c-ddotson-tyk2-demo': <RelativeHybridTopologyProtocolResult-814a45e31997809a16f376e3e1823554>,\n",
       " 'Transformation-08f4c68a8e178d698e59cc1a366e3415-ddotson-tyk2-demo': <RelativeHybridTopologyProtocolResult-743b1ae43bc1d295e9c02efcb57f192a>,\n",
       " 'Transformation-c244dffbafa7e4e95ff4c0a03a54888b-ddotson-tyk2-demo': <RelativeHybridTopologyProtocolResult-4225282c756a0bd7479fba9b59835b16>,\n",
       " 'Transformation-7080ba2b294fbb443f7c8fd0432523b8-ddotson-tyk2-demo': <RelativeHybridTopologyProtocolResult-dc17ced0d2bbd9046218333e53a98ec1>,\n",
       " 'Transformation-2168cd5e6257debd9e31a7dea8f865db-ddotson-tyk2-demo': <RelativeHybridTopologyProtocolResult-133dde7fe0199c3945bf6c8ea75b4129>,\n",
       " 'Transformation-6fedaff17af81e8f8cd903ff54f4fa43-ddotson-tyk2-demo': <RelativeHybridTopologyProtocolResult-cde24b9fd763d96626cfbfdcfad505ba>,\n",
       " 'Transformation-058b41226978833e875145eca60fa44d-ddotson-tyk2-demo': <RelativeHybridTopologyProtocolResult-05caf5d511c2a24fa33f80bbaecde514>,\n",
       " 'Transformation-a34291c782001508c20b0f8fbd8e8768-ddotson-tyk2-demo': <RelativeHybridTopologyProtocolResult-0fd9c6d028f77ba855f5d294d93bd345>,\n",
       " 'Transformation-be3971fa5275fae3d0767ef387e4f673-ddotson-tyk2-demo': <RelativeHybridTopologyProtocolResult-53b9e0a65eb3786c03af3d8fb1f4f90f>,\n",
       " 'Transformation-c824272678b20bb10b0b3ed82a75cba7-ddotson-tyk2-demo': <RelativeHybridTopologyProtocolResult-33301211bbd21474aa96630bb3581308>,\n",
       " 'Transformation-72f58e6ef2cc85e52de765b797fb935b-ddotson-tyk2-demo': <RelativeHybridTopologyProtocolResult-bdf9c01eafb0d496f080e08d94a2f02f>,\n",
       " 'Transformation-d5634110bde446e3c0135a213ca126be-ddotson-tyk2-demo': <RelativeHybridTopologyProtocolResult-443e1c71dd24694270c447380bc6e61d>,\n",
       " 'Transformation-cfc64db96341e6c6fe78b31bc45086fe-ddotson-tyk2-demo': <RelativeHybridTopologyProtocolResult-fc59485845be5bd2162258749b754996>,\n",
       " 'Transformation-f549eb13fa5c5aa43a4b0581509ec17b-ddotson-tyk2-demo': <RelativeHybridTopologyProtocolResult-5c6961ee6e45f0abdef226544e52c8d2>,\n",
       " 'Transformation-22f055e336144e1192a54fc36b008761-ddotson-tyk2-demo': <RelativeHybridTopologyProtocolResult-2698beb151d7219357d97867dbfc94d3>,\n",
       " 'Transformation-954a54426ba12cd7f97b163692de84b3-ddotson-tyk2-demo': <RelativeHybridTopologyProtocolResult-b773db025bc6d8846fdd06234627ef17>,\n",
       " 'Transformation-43fcc3ea77628d04acffbfafaf7289f3-ddotson-tyk2-demo': <RelativeHybridTopologyProtocolResult-3cab708dbc726710a4557605dc8696f8>,\n",
       " 'Transformation-1ed12e0907b854bd0810ebb8bce91bbd-ddotson-tyk2-demo': <RelativeHybridTopologyProtocolResult-d6c0a98924639738c8686a64239dab66>,\n",
       " 'Transformation-e85c3cfe5386d9e53c4593acf52df560-ddotson-tyk2-demo': <RelativeHybridTopologyProtocolResult-82a2251fe7faaec89bff4d49f74c6f2e>,\n",
       " 'Transformation-1d104d98ba12a95e13d2e086f1839b51-ddotson-tyk2-demo': <RelativeHybridTopologyProtocolResult-52f713860a8466dae1b2f2e58d3eaf6c>}"
      ]
     },
     "execution_count": 35,
     "metadata": {},
     "output_type": "execute_result"
    }
   ],
   "source": [
    "results"
   ]
  },
  {
   "cell_type": "markdown",
   "id": "09170a13-accb-4b8e-a817-f76ad2e572d1",
   "metadata": {},
   "source": [
    "## Advanced example: comparing results to experimental values with `cinnabar`"
   ]
  },
  {
   "cell_type": "markdown",
   "id": "1ffedcc8-91c0-4448-b249-e2c42699aab5",
   "metadata": {},
   "source": [
    "Source notebook: `https://github.com/IAlibay/alchemiscale-utilities/blob/main/notebooks/TYK2_MST/Alchemiscale_submit_and_analyze.ipynb`"
   ]
  },
  {
   "cell_type": "markdown",
   "id": "394a112f-d3c5-4ecb-8c6e-8137c63cd106",
   "metadata": {},
   "source": [
    "We can gather up results for each `Transformation` as above and put into a form suitable for use with `cinnabar`. This will allow us to compare to experimental values for the binding free energies of these ligands. We use experimental values listed in `ligands.yml`, originally sourced from [openforcefield/protein-ligand-benchmark](https://github.com/openforcefield/protein-ligand-benchmark):"
   ]
  },
  {
   "cell_type": "code",
   "execution_count": 37,
   "id": "0717730d-dc4a-4ee5-a7e9-6af423c3335c",
   "metadata": {},
   "outputs": [
    {
     "name": "stdout",
     "output_type": "stream",
     "text": [
      "lig_ejm_31:\n",
      "  measurement:\n",
      "    comment: Table 4, entry 31\n",
      "    doi: 10.1016/j.ejmech.2013.03.070\n",
      "    error: 0.029\n",
      "    type: ki\n",
      "    unit: uM\n",
      "    value: 0.096\n",
      "  name: lig_ejm_31\n",
      "  smiles: '[H]c1c(c(c(c(c1[H])Cl)C(=O)N([H])c2c(c(nc(c2[H])N([H])C(=O)C([H])([H])[H])[H])[H])Cl)[H]'\n",
      "lig_ejm_42:\n",
      "  measurement:\n",
      "    comment: Table 4, entry 42\n",
      "    doi: 10.1016/j.ejmech.2013.03.070\n",
      "    error: 0.019\n",
      "    type: ki\n",
      "    unit: uM\n",
      "    value: 0.064\n",
      "  name: lig_ejm_42\n",
      "  smiles: '[H]c1c(c(c(c(c1[H])Cl)C(=O)N([H])c2c(c(nc(c2[H])N([H])C(=O)C([H])([H])C([H])([H])[H])[H])[H])Cl)[H]'\n",
      "lig_ejm_43:\n",
      "  measurement:\n",
      "    comment: Table 4, entry 43\n",
      "    doi: 10.1016/j.ejmech.2013.03.070\n",
      "    error: 0.25\n",
      "    type: ki\n",
      "    unit: uM\n",
      "    value: 0.84\n",
      "  name: lig_ejm_43\n",
      "  smiles: '[H]c1c(c(c(c(c1[H])Cl)C(=O)N([H])c2c(c(nc(c2[H])N([H])C(=O)C([H])(C([H])([H])[H])C([H])([H])[H])[H])[H])Cl)[H]'\n",
      "lig_ejm_45:\n",
      "  measurement:\n",
      "    comment: Table 4, entry 45\n",
      "    doi: 10.1016/j.ejmech.2013.03.070\n",
      "    error: 0.028\n",
      "    type: ki\n",
      "    unit: uM\n",
      "    value: 0.094\n",
      "  name: lig_ejm_45\n",
      "  smiles: '[H]c1c(c(c(c(c1[H])Cl)C(=O)N([H])c2c(c(nc(c2[H])N([H])C(=O)C([H])([H])C3(C(C3([H])[H])([H])[H])[H])[H])[H])Cl)[H]'\n",
      "lig_ejm_46:\n",
      "  measurement:\n",
      "    comment: Table 4, entry 46\n",
      "    doi: 10.1016/j.ejmech.2013.03.070\n",
      "    error: 0.0014\n",
      "    type: ki\n",
      "    unit: uM\n",
      "    value: 0.0048\n",
      "  name: lig_ejm_46\n",
      "  smiles: '[H]c1c(c(c(c(c1[H])Cl)C(=O)N([H])c2c(c(nc(c2[H])N([H])C(=O)C3(C(C3([H])[H])([H])[H])[H])[H])[H])Cl)[H]'\n",
      "lig_ejm_47:\n",
      "  measurement:\n",
      "    comment: Table 4, entry 47\n",
      "    doi: 10.1016/j.ejmech.2013.03.070\n",
      "    error: 0.022\n",
      "    type: ki\n",
      "    unit: uM\n",
      "    value: 0.074\n",
      "  name: lig_ejm_47\n",
      "  smiles: '[H]c1c(c(c(c(c1[H])Cl)C(=O)N([H])c2c(c(nc(c2[H])N([H])C(=O)C3(C(C(C3([H])[H])([H])[H])([H])[H])[H])[H])[H])Cl)[H]'\n",
      "lig_ejm_48:\n",
      "  measurement:\n",
      "    comment: Table 4, entry 48\n",
      "    doi: 10.1016/j.ejmech.2013.03.070\n",
      "    error: 0.072\n",
      "    type: ki\n",
      "    unit: uM\n",
      "    value: 0.24\n",
      "  name: lig_ejm_48\n",
      "  smiles: '[H]c1c(c(c(c(c1[H])Cl)C(=O)N([H])c2c(c(nc(c2[H])N([H])C(=O)C3(C(C(C(C3([H])[H])([H])[H])([H])[H])([H])[H])[H])[H])[H])Cl)[H]'\n",
      "lig_ejm_50:\n",
      "  measurement:\n",
      "    comment: Table 4, entry 50\n",
      "    doi: 10.1016/j.ejmech.2013.03.070\n",
      "    error: 0.075\n",
      "    type: ki\n",
      "    unit: uM\n",
      "    value: 0.25\n",
      "  name: lig_ejm_50\n",
      "  smiles: '[H]c1c(c(c(c(c1[H])Cl)C(=O)N([H])c2c(c(nc(c2[H])N([H])C(=O)C([H])([H])O[H])[H])[H])Cl)[H]'\n",
      "lig_ejm_54:\n",
      "  measurement:\n",
      "    comment: Table 4, entry 54\n",
      "    doi: 10.1016/j.ejmech.2013.03.070\n",
      "    error: 0.0054\n",
      "    type: ki\n",
      "    unit: uM\n",
      "    value: 0.018\n",
      "  name: lig_ejm_54\n",
      "  smiles: '[H]c1c(c(c(c(c1[H])Cl)C(=O)N([H])c2c(c(nc(c2[H])N([H])C(=O)N([H])C([H])([H])C([H])([H])[H])[H])[H])Cl)[H]'\n",
      "lig_ejm_55:\n",
      "  measurement:\n",
      "    comment: Table 4, entry 55\n",
      "    doi: 10.1016/j.ejmech.2013.03.070\n",
      "    error: 0.051\n",
      "    type: ki\n",
      "    unit: uM\n",
      "    value: 0.17\n",
      "  name: lig_ejm_55\n",
      "  smiles: '[H]c1c(c(c(c(c1[H])Cl)C(=O)N([H])c2c(c(nc(c2[H])N([H])C(=O)OC([H])([H])[H])[H])[H])Cl)[H]'\n",
      "lig_jmc_23:\n",
      "  measurement:\n",
      "    comment: Table 2, entry 23; values for four different enantionmers listed, this\n",
      "      one is for cis\n",
      "    doi: 10.1021/jm400266t\n",
      "    error: 0.75\n",
      "    type: ki\n",
      "    unit: nM\n",
      "    value: 2.5\n",
      "  name: lig_jmc_23\n",
      "  smiles: '[H]c1c(c(c(c(c1[H])Cl)C(=O)N([H])c2c(c(nc(c2[H])N([H])C(=O)[C@@]3([C@](C3([H])[H])([H])F)[H])[H])[H])Cl)[H]'\n",
      "lig_jmc_27:\n",
      "  measurement:\n",
      "    comment: Table 2, entry 27; cis enantiomer\n",
      "    doi: 10.1021/jm400266t\n",
      "    error: 1.5\n",
      "    type: ki\n",
      "    unit: nM\n",
      "    value: 5.1\n",
      "  name: lig_jmc_27\n",
      "  smiles: '[H]c1c(c(c(c(c1[H])Cl)C(=O)N([H])c2c(c(nc(c2[H])N([H])C(=O)[C@@]3([C@](C3([H])[H])([H])Cl)[H])[H])[H])Cl)[H]'\n",
      "lig_jmc_28:\n",
      "  measurement:\n",
      "    comment: Table 2, entry 28; cis enantiomer\n",
      "    doi: 10.1021/jm400266t\n",
      "    error: 2.6\n",
      "    type: ki\n",
      "    unit: nM\n",
      "    value: 8.5\n",
      "  name: lig_jmc_28\n",
      "  smiles: '[H]c1c(c(c(c(c1[H])Cl)C(=O)N([H])c2c(c(nc(c2[H])N([H])C(=O)[C@@]3([C@](C3([H])[H])([H])C([H])([H])[H])[H])[H])[H])Cl)[H]'\n"
     ]
    }
   ],
   "source": [
    "%cat ligands.yml"
   ]
  },
  {
   "cell_type": "code",
   "execution_count": 38,
   "id": "7076019c-aa12-4be3-9b87-f864b5a5ffd8",
   "metadata": {},
   "outputs": [],
   "source": [
    "from pathlib import Path"
   ]
  },
  {
   "cell_type": "code",
   "execution_count": 39,
   "id": "f688cd6c",
   "metadata": {},
   "outputs": [],
   "source": [
    "# Next we define a convenience method to check what type of transformation we are looking at\n",
    "def _scan_components(system):\n",
    "    comps = system.components.values()\n",
    "    if any([isinstance(comp, openfe.ProteinComponent) for comp in comps]):\n",
    "        return \"complex\"\n",
    "    elif any([isinstance(comp, openfe.SolventComponent) for comp in comps]):\n",
    "        return \"solvent\"\n",
    "    else:\n",
    "        return \"vacuum\""
   ]
  },
  {
   "cell_type": "code",
   "execution_count": null,
   "id": "7af574ec",
   "metadata": {
    "scrolled": true
   },
   "outputs": [],
   "source": [
    "# Next we create a results dictionary and scan our network edges to accumulate all\n",
    "# the free energy results and their uncertainty\n",
    "results_dir = Path('results')\n",
    "results_dir.mkdir(parents=True, exist_ok=True)\n",
    "results = dict()\n",
    "for tf_sk in asc.get_network_transformations(an_sk):\n",
    "    transformation = asc.get_transformation(tf_sk)\n",
    "    result = asc.get_transformation_results(tf_sk)\n",
    "    if result is None:\n",
    "        continue\n",
    "    runtype = _scan_components(transformation.stateA)\n",
    "    mapping = transformation.mapping['ligand']\n",
    "    nameA = mapping.componentA.name\n",
    "    nameB = mapping.componentB.name\n",
    "\n",
    "    # store in accumulator\n",
    "    if f\"{nameA}_{nameB}\" in results.keys():\n",
    "        results[f\"{nameA}_{nameB}\"][runtype] = result\n",
    "    else:\n",
    "        results[f\"{nameA}_{nameB}\"] = {runtype: result, 'molA': nameA, 'molB': nameB}\n",
    "\n",
    "    # output individual results to a separate `.dat` file for future use\n",
    "    filename = results_dir / f\"{nameA}_{nameB}.{runtype}.results.dat\"\n",
    "    output = f\"{result.get_estimate()},{result.get_uncertainty()}\"\n",
    "\n",
    "    with open(filename, 'w') as f:\n",
    "        f.write(output)"
   ]
  },
  {
   "cell_type": "markdown",
   "id": "7a185273-3bea-4ee0-b69b-64a859bff35c",
   "metadata": {},
   "source": [
    "### Writing out a `cinnabar` input CSV file\n",
    "\n",
    "Since this is a known benchmark system, we have experimental values for each of our ligands. We can combine them with our results to create a `cinnabar` input CSV file.\n",
    "\n",
    "**Note: this will change very soon. We are in the process of refactoring the cinnabar API.**"
   ]
  },
  {
   "cell_type": "code",
   "execution_count": 41,
   "id": "e61661ee",
   "metadata": {},
   "outputs": [],
   "source": [
    "# Here we create a dictionary of experimental values from an input protein-ligand benchmark ligands.yml\n",
    "\n",
    "# First load the yaml data\n",
    "import yaml\n",
    "\n",
    "with open('ligands.yml') as stream:\n",
    "    exp_data = yaml.safe_load(stream)"
   ]
  },
  {
   "cell_type": "code",
   "execution_count": 42,
   "id": "8d693308",
   "metadata": {},
   "outputs": [],
   "source": [
    "# Define a method for converting between Ki to estimated DG\n",
    "from openff.units import unit\n",
    "import math\n",
    "\n",
    "def ki_to_dg(\n",
    "    ki: unit.Quantity, uncertainty: unit.Quantity,\n",
    "    temperature: unit.Quantity = 298.15 * unit.kelvin\n",
    ") -> tuple[unit.Quantity, unit.Quantity]:\n",
    "    \"\"\"\n",
    "    Convenience method to convert a Ki w/ a given uncertainty to an\n",
    "    experimental estimate of the binding free energy.\n",
    "    \n",
    "    Parameters\n",
    "    ----------\n",
    "    ki : unit.Quantity\n",
    "        Experimental Ki value (e.g. 5 * unit.nanomolar)\n",
    "    uncertainty : unit.Quantity\n",
    "        Experimental error. Note: returns 0 if =< 0 * unit.nanomolar.\n",
    "    temperature : unit.Quantity\n",
    "        Experimental temperature. Default: 298.15 * unit.kelvin.\n",
    "        \n",
    "    Returns\n",
    "    -------\n",
    "    DG : unit.Quantity\n",
    "        Gibbs binding free energy.\n",
    "    dDG : unit.Quantity\n",
    "        Error in binding free energy.\n",
    "    \"\"\"\n",
    "    if ki > 1e-15 * unit.nanomolar:\n",
    "        DG = (unit.molar_gas_constant * temperature.to(unit.kelvin)\n",
    "              * math.log(ki / unit.molar)).to(unit.kilocalorie_per_mole)\n",
    "    else:\n",
    "        raise ValueError(\"negative Ki values are not supported\")\n",
    "    if uncertainty > 0 * unit.molar:\n",
    "        dDG = (unit.molar_gas_constant * temperature.to(unit.kelvin)\n",
    "               * uncertainty / ki).to(unit.kilocalorie_per_mole)\n",
    "    else:\n",
    "        dDG = 0 * unit.kilocalorie_per_mole\n",
    "        \n",
    "    return DG, dDG"
   ]
  },
  {
   "cell_type": "code",
   "execution_count": 43,
   "id": "bbc447a8",
   "metadata": {},
   "outputs": [],
   "source": [
    "from openff.units import unit\n",
    "\n",
    "exp_values = {}\n",
    "for lig in exp_data:\n",
    "    exp_units = unit(exp_data[lig]['measurement']['unit'])\n",
    "    exp_values[lig] = {}\n",
    "    DG, dDG = ki_to_dg(exp_data[lig]['measurement']['value'] * exp_units,\n",
    "                       exp_data[lig]['measurement']['error'] * exp_units)\n",
    "    exp_values[lig]['value'] = DG\n",
    "    exp_values[lig]['error'] = dDG"
   ]
  },
  {
   "cell_type": "code",
   "execution_count": 44,
   "id": "03439752",
   "metadata": {},
   "outputs": [],
   "source": [
    "import numpy as np\n",
    "\n",
    "# write out the cinnabar input file\n",
    "with open('cinnabar_input.csv', 'w') as f:\n",
    "    f.write(\"# Experimental block\\n\")\n",
    "    f.write(\"# Ligand, expt_DDG, expt_dDDG\\n\")\n",
    "    for entry in exp_values:\n",
    "        f.write(f\"{entry},{exp_values[entry]['value'].m:.2f},{exp_values[entry]['error'].m:.2f}\\n\")\n",
    "    f.write('\\n')\n",
    "    \n",
    "    f.write('# Calculated block\\n')\n",
    "    f.write('# Ligand1,Ligand2,calc_DDG,calc_dDDG(MBAR),calc_dDDG(additional)\\n')\n",
    "    for entry in results:\n",
    "        estimate = (results[entry]['complex'].get_estimate()\n",
    "                    - results[entry]['solvent'].get_estimate())\n",
    "        err = np.sqrt(results[entry]['complex'].get_uncertainty()**2\n",
    "                      + results[entry]['solvent'].get_uncertainty()**2)\n",
    "        molA = results[entry]['molA']\n",
    "        molB = results[entry]['molB']\n",
    "        f.write(f\"{molA},{molB},{estimate.m:.2f},0,{err.m:.2f}\\n\")"
   ]
  },
  {
   "cell_type": "markdown",
   "id": "f8e32ef8-a959-42e3-a94e-6d171bcf07ff",
   "metadata": {},
   "source": [
    "### Plotting out results using `cinnabar` components\n",
    "\n",
    "**Note: the `cinnabar` API will change in its next release.**"
   ]
  },
  {
   "cell_type": "code",
   "execution_count": 45,
   "id": "60413e9e",
   "metadata": {},
   "outputs": [],
   "source": [
    "import cinnabar\n",
    "from cinnabar import plotting as cinnabar_plotting\n",
    "from cinnabar.wrangle import FEMap\n",
    "%matplotlib inline"
   ]
  },
  {
   "cell_type": "markdown",
   "id": "afc23071-b546-4d46-97d9-1d36efaa7c8f",
   "metadata": {},
   "source": [
    "#### Generating a Cinnabar FEMap and plotting out the network"
   ]
  },
  {
   "cell_type": "markdown",
   "id": "d5b583a8-d545-4c66-ae1b-fc76b1bacbe1",
   "metadata": {},
   "source": [
    "First let's load the data into cinnabar and draw out the network of free energy results:"
   ]
  },
  {
   "cell_type": "code",
   "execution_count": 47,
   "id": "56de38d7-fbde-4610-a1ff-428eaaa70648",
   "metadata": {},
   "outputs": [
    {
     "data": {
      "image/png": "[encoded data removed]",
      "text/plain": [
       "<Figure size 1000x1000 with 1 Axes>"
      ]
     },
     "metadata": {},
     "output_type": "display_data"
    }
   ],
   "source": [
    "fe = cinnabar.wrangle.FEMap('cinnabar_input.csv')\n",
    "fe.generate_absolute_values()  # Get MLE generated estimates of the absolute values\n",
    "fe.draw_graph()"
   ]
  },
  {
   "cell_type": "markdown",
   "id": "3ef71a46-4b8b-4072-8c65-7dbc22747469",
   "metadata": {},
   "source": [
    "#### Plotting out the relative free energy results"
   ]
  },
  {
   "cell_type": "markdown",
   "id": "73acc23c-7a5c-4fbb-b313-445ead198882",
   "metadata": {},
   "source": [
    "Next we can go ahead and plot out the relative free energy results:"
   ]
  },
  {
   "cell_type": "code",
   "execution_count": 48,
   "id": "1a747b7f-a06c-4027-9556-433242fb50ce",
   "metadata": {},
   "outputs": [
    {
     "data": {
      "image/png": "[encoded data removed]",
      "text/plain": [
       "<Figure size 500x500 with 1 Axes>"
      ]
     },
     "metadata": {},
     "output_type": "display_data"
    }
   ],
   "source": [
    "# note you can pass the filename argument to write things out to file\n",
    "cinnabar_plotting.plot_DDGs(fe.graph, figsize=5,  xy_lim=[5, -5])"
   ]
  },
  {
   "cell_type": "markdown",
   "id": "c004a6f7-ed37-4895-9552-fb9f42c0f2b4",
   "metadata": {},
   "source": [
    "#### Plotting out the absolute free energy results"
   ]
  },
  {
   "cell_type": "markdown",
   "id": "14de5ffe-c80b-46d3-9356-b72f0ad1e134",
   "metadata": {},
   "source": [
    "Finally let's go ahead and plot out the MLE derived absolute free energies:"
   ]
  },
  {
   "cell_type": "code",
   "execution_count": 49,
   "id": "f9e652a4-3657-43c9-a2ed-7b074a03578e",
   "metadata": {},
   "outputs": [
    {
     "data": {
      "image/png": "[encoded data removed]",
      "text/plain": [
       "<Figure size 500x500 with 1 Axes>"
      ]
     },
     "metadata": {},
     "output_type": "display_data"
    }
   ],
   "source": [
    "# note you can pass the filename argument to write to file\n",
    "cinnabar_plotting.plot_DGs(fe.graph, figsize=5,  xy_lim=[5, -5])"
   ]
  },
  {
   "cell_type": "markdown",
   "id": "18619f57-fa05-4cfd-a970-8fb66db8b871",
   "metadata": {},
   "source": [
    "We can also shift our free energies by the average experimental value to have DGs on the same scale as experiment:"
   ]
  },
  {
   "cell_type": "code",
   "execution_count": 50,
   "id": "8dfc0f1f-e928-4d7a-8c13-9895ab8f37cb",
   "metadata": {},
   "outputs": [],
   "source": [
    "exp_DG_sum = sum([fe.results['Experimental'][i].DG for i in fe.results['Experimental'].keys()])\n",
    "shift = exp_DG_sum / len(fe.results['Experimental'].keys())"
   ]
  },
  {
   "cell_type": "code",
   "execution_count": 51,
   "id": "80a46f11-8e99-414b-b9ee-8cfe120fbe3c",
   "metadata": {},
   "outputs": [
    {
     "data": {
      "image/png": "[encoded data removed]",
      "text/plain": [
       "<Figure size 500x500 with 1 Axes>"
      ]
     },
     "metadata": {},
     "output_type": "display_data"
    }
   ],
   "source": [
    "cinnabar_plotting.plot_DGs(fe.graph, figsize=5,  shift=shift)"
   ]
  }
 ],
 "metadata": {
  "kernelspec": {
   "display_name": "Python 3 (ipykernel)",
   "language": "python",
   "name": "python3"
  },
  "language_info": {
   "codemirror_mode": {
    "name": "ipython",
    "version": 3
   },
   "file_extension": ".py",
   "mimetype": "text/x-python",
   "name": "python",
   "nbconvert_exporter": "python",
   "pygments_lexer": "ipython3",
   "version": "3.10.12"
  }
 },
 "nbformat": 4,
 "nbformat_minor": 5
}
