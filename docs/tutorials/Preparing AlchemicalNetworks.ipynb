{
 "cells": [
  {
   "cell_type": "markdown",
   "id": "4ed54201-aa1f-4ba9-bdb7-1c7f5a2cbd05",
   "metadata": {},
   "source": [
    "# Preparing `AlchemicalNetwork`s for use with `fah-alchemy`"
   ]
  },
  {
   "cell_type": "markdown",
   "id": "6da80e66-6e17-407f-9ba4-a25ded4777bc",
   "metadata": {},
   "source": [
    "`fah-alchemy` is a platform for evluating the free energy differences between chemical systems in an alchemical network.\n",
    "This notebook will illustrate how to build alchemical networks suitable for submission to a deployed `fah-alchemy` instance."
   ]
  },
  {
   "cell_type": "markdown",
   "id": "9d6eaa9e-daa0-4fee-8e72-d1116a1d4954",
   "metadata": {},
   "source": [
    "`fah-alchemy` works in terms of `gufe` objects; the `gufe` module defines the data model for `AlchemicalNetwork`s and all objects it is built up from. We'll import the objects we'll use in this tutorial here."
   ]
  },
  {
   "cell_type": "code",
   "execution_count": 17,
   "id": "6bb3f4a4-2135-494a-8365-9ef229dd124d",
   "metadata": {},
   "outputs": [],
   "source": [
    "from gufe import AlchemicalNetwork, Transformation, ChemicalSystem\n",
    "from gufe.components import ProteinComponent, SmallMoleculeComponent, SolventComponent"
   ]
  },
  {
   "cell_type": "markdown",
   "id": "99190957-890d-4729-ac72-bef35fbb212f",
   "metadata": {},
   "source": [
    "## Sample network from `openfe-benchmark`"
   ]
  },
  {
   "cell_type": "markdown",
   "id": "c7362410-7045-42a6-8249-93a1e832d8c9",
   "metadata": {},
   "source": [
    "We'll use a sample network in `openfe-benchmark` for demonstration purposes. The sources can be found here: https://github.com/OpenFreeEnergy/openfe-benchmarks\n",
    "\n",
    "In particular, we'll use the `tyk2` network. We'll extract ligands manually from the ligand SDF, and the protein target from its PDB."
   ]
  },
  {
   "cell_type": "code",
   "execution_count": 14,
   "id": "08f7ddfd-4fd5-4bef-8bf9-b2a286b094c6",
   "metadata": {},
   "outputs": [],
   "source": [
    "from importlib import resources\n",
    "from rdkit import Chem\n",
    "\n",
    "from openfe_benchmarks import tyk2"
   ]
  },
  {
   "cell_type": "code",
   "execution_count": 15,
   "id": "d3d7946f-6b31-4dfd-b337-7a41d717e391",
   "metadata": {},
   "outputs": [
    {
     "data": {
      "text/plain": [
       "<openfe_benchmarks.utils.RBFEBenchmarkSystem at 0x7fc1451a8340>"
      ]
     },
     "execution_count": 15,
     "metadata": {},
     "output_type": "execute_result"
    }
   ],
   "source": [
    "tyk2_system = tyk2.get_system()\n",
    "tyk2_system"
   ]
  },
  {
   "cell_type": "code",
   "execution_count": 16,
   "id": "ec682c29-12cf-46dc-aea7-8b7e45324529",
   "metadata": {},
   "outputs": [
    {
     "data": {
      "text/plain": [
       "[('lig_ejm_31', 'lig_ejm_50'),\n",
       " ('lig_ejm_46', 'lig_jmc_23'),\n",
       " ('lig_ejm_31', 'lig_ejm_55'),\n",
       " ('lig_ejm_31', 'lig_ejm_48'),\n",
       " ('lig_ejm_31', 'lig_ejm_54'),\n",
       " ('lig_ejm_31', 'lig_ejm_47'),\n",
       " ('lig_ejm_31', 'lig_ejm_46'),\n",
       " ('lig_ejm_46', 'lig_jmc_27'),\n",
       " ('lig_ejm_46', 'lig_jmc_28'),\n",
       " ('lig_ejm_42', 'lig_ejm_43'),\n",
       " ('lig_ejm_31', 'lig_ejm_42'),\n",
       " ('lig_ejm_45', 'lig_ejm_55')]"
      ]
     },
     "execution_count": 16,
     "metadata": {},
     "output_type": "execute_result"
    }
   ],
   "source": [
    "tyk2_system.connections"
   ]
  },
  {
   "cell_type": "markdown",
   "id": "5d3285c5-0b7e-461f-a761-dabd01182775",
   "metadata": {},
   "source": [
    "## Define `ChemicalSystem`s for network nodes"
   ]
  },
  {
   "cell_type": "code",
   "execution_count": 13,
   "id": "f3c9472e-adb0-40d4-ab37-66b641644d7b",
   "metadata": {},
   "outputs": [
    {
     "ename": "NameError",
     "evalue": "name 'SmallMoleculeComponent' is not defined",
     "output_type": "error",
     "traceback": [
      "\u001b[0;31m---------------------------------------------------------------------------\u001b[0m",
      "\u001b[0;31mNameError\u001b[0m                                 Traceback (most recent call last)",
      "Cell \u001b[0;32mIn [13], line 4\u001b[0m\n\u001b[1;32m      1\u001b[0m \u001b[38;5;28;01mwith\u001b[39;00m resources\u001b[38;5;241m.\u001b[39mpath(\u001b[38;5;124m'\u001b[39m\u001b[38;5;124mopenfe_benchmarks.data\u001b[39m\u001b[38;5;124m'\u001b[39m,\n\u001b[1;32m      2\u001b[0m                     \u001b[38;5;124m'\u001b[39m\u001b[38;5;124mtyk2_ligands.sdf\u001b[39m\u001b[38;5;124m'\u001b[39m) \u001b[38;5;28;01mas\u001b[39;00m fn:\n\u001b[1;32m      3\u001b[0m     ligands_sdf \u001b[38;5;241m=\u001b[39m Chem\u001b[38;5;241m.\u001b[39mSDMolSupplier(\u001b[38;5;28mstr\u001b[39m(fn), removeHs\u001b[38;5;241m=\u001b[39m\u001b[38;5;28;01mFalse\u001b[39;00m)\n\u001b[0;32m----> 4\u001b[0m     ligand_components \u001b[38;5;241m=\u001b[39m [SmallMoleculeComponent(sdf) \u001b[38;5;28;01mfor\u001b[39;00m sdf \u001b[38;5;129;01min\u001b[39;00m ligands_sdf]\n",
      "Cell \u001b[0;32mIn [13], line 4\u001b[0m, in \u001b[0;36m<listcomp>\u001b[0;34m(.0)\u001b[0m\n\u001b[1;32m      1\u001b[0m \u001b[38;5;28;01mwith\u001b[39;00m resources\u001b[38;5;241m.\u001b[39mpath(\u001b[38;5;124m'\u001b[39m\u001b[38;5;124mopenfe_benchmarks.data\u001b[39m\u001b[38;5;124m'\u001b[39m,\n\u001b[1;32m      2\u001b[0m                     \u001b[38;5;124m'\u001b[39m\u001b[38;5;124mtyk2_ligands.sdf\u001b[39m\u001b[38;5;124m'\u001b[39m) \u001b[38;5;28;01mas\u001b[39;00m fn:\n\u001b[1;32m      3\u001b[0m     ligands_sdf \u001b[38;5;241m=\u001b[39m Chem\u001b[38;5;241m.\u001b[39mSDMolSupplier(\u001b[38;5;28mstr\u001b[39m(fn), removeHs\u001b[38;5;241m=\u001b[39m\u001b[38;5;28;01mFalse\u001b[39;00m)\n\u001b[0;32m----> 4\u001b[0m     ligand_components \u001b[38;5;241m=\u001b[39m [\u001b[43mSmallMoleculeComponent\u001b[49m(sdf) \u001b[38;5;28;01mfor\u001b[39;00m sdf \u001b[38;5;129;01min\u001b[39;00m ligands_sdf]\n",
      "\u001b[0;31mNameError\u001b[0m: name 'SmallMoleculeComponent' is not defined"
     ]
    }
   ],
   "source": [
    "with resources.path('openfe_benchmarks.data',\n",
    "                    'tyk2_ligands.sdf') as fn:\n",
    "    ligands_sdf = Chem.SDMolSupplier(str(fn), removeHs=False)\n",
    "    ligand_components = [SmallMoleculeComponent(sdf) for sdf in ligands_sdf]"
   ]
  },
  {
   "cell_type": "code",
   "execution_count": null,
   "id": "499ce2fb-60d8-4495-96ed-476990d8a8a1",
   "metadata": {},
   "outputs": [],
   "source": []
  },
  {
   "cell_type": "markdown",
   "id": "0b64f1c8-0fa0-4b10-baba-7014f9de9440",
   "metadata": {},
   "source": [
    "### Define `Component`s for a given `ChemicalSystem`"
   ]
  },
  {
   "cell_type": "code",
   "execution_count": null,
   "id": "f12fddec-7cd8-4faa-a517-e4de5191077a",
   "metadata": {},
   "outputs": [],
   "source": []
  },
  {
   "cell_type": "markdown",
   "id": "7bc3a65a-979c-4114-b948-f7315796709d",
   "metadata": {},
   "source": [
    "## Define `Transformation`s between `ChemicalSystem`s as network edges"
   ]
  },
  {
   "cell_type": "markdown",
   "id": "ace9de53-2527-47f5-8aae-98d9adef2c1d",
   "metadata": {},
   "source": [
    "### Define the `Protocol` used for `Transformation` evaluation"
   ]
  }
 ],
 "metadata": {
  "kernelspec": {
   "display_name": "Python 3 (ipykernel)",
   "language": "python",
   "name": "python3"
  },
  "language_info": {
   "codemirror_mode": {
    "name": "ipython",
    "version": 3
   },
   "file_extension": ".py",
   "mimetype": "text/x-python",
   "name": "python",
   "nbconvert_exporter": "python",
   "pygments_lexer": "ipython3",
   "version": "3.9.15"
  }
 },
 "nbformat": 4,
 "nbformat_minor": 5
}
