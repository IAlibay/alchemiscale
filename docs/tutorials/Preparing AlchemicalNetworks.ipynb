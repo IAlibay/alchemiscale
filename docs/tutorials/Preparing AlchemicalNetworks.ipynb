{
 "cells": [
  {
   "cell_type": "markdown",
   "id": "4ed54201-aa1f-4ba9-bdb7-1c7f5a2cbd05",
   "metadata": {},
   "source": [
    "# Preparing `AlchemicalNetwork`s for use with `fah-alchemy`"
   ]
  },
  {
   "cell_type": "markdown",
   "id": "6da80e66-6e17-407f-9ba4-a25ded4777bc",
   "metadata": {},
   "source": [
    "`fah-alchemy` is a platform for evluating the free energy differences between chemical systems in an alchemical network.\n",
    "This notebook will illustrate how to build alchemical networks suitable for submission to a deployed `fah-alchemy` instance."
   ]
  },
  {
   "cell_type": "markdown",
   "id": "9d6eaa9e-daa0-4fee-8e72-d1116a1d4954",
   "metadata": {},
   "source": [
    "`fah-alchemy` works in terms of `gufe` objects; the `gufe` module defines the data model for `AlchemicalNetwork`s and all objects they are composed of. We'll import the classes of objects we'll use in this tutorial here."
   ]
  },
  {
   "cell_type": "code",
   "execution_count": 1,
   "id": "6bb3f4a4-2135-494a-8365-9ef229dd124d",
   "metadata": {},
   "outputs": [],
   "source": [
    "from gufe import AlchemicalNetwork, Transformation, ChemicalSystem\n",
    "from gufe.components import ProteinComponent, SmallMoleculeComponent, SolventComponent\n",
    "\n",
    "from openff.units import unit"
   ]
  },
  {
   "cell_type": "markdown",
   "id": "99190957-890d-4729-ac72-bef35fbb212f",
   "metadata": {},
   "source": [
    "## Sample network from `openfe-benchmark`"
   ]
  },
  {
   "cell_type": "markdown",
   "id": "c7362410-7045-42a6-8249-93a1e832d8c9",
   "metadata": {},
   "source": [
    "We'll use a sample network in `openfe-benchmark` for demonstration purposes. The sources can be found here: https://github.com/OpenFreeEnergy/openfe-benchmarks\n",
    "\n",
    "In particular, we'll use the `tyk2` network.  We'll extract ligands manually from the ligand SDF, and the protein target from its PDB."
   ]
  },
  {
   "cell_type": "code",
   "execution_count": 2,
   "id": "08f7ddfd-4fd5-4bef-8bf9-b2a286b094c6",
   "metadata": {},
   "outputs": [],
   "source": [
    "from importlib import resources\n",
    "from rdkit import Chem\n",
    "\n",
    "from openfe_benchmarks import tyk2"
   ]
  },
  {
   "cell_type": "code",
   "execution_count": 3,
   "id": "d3d7946f-6b31-4dfd-b337-7a41d717e391",
   "metadata": {},
   "outputs": [
    {
     "data": {
      "text/plain": [
       "<openfe_benchmarks.utils.RBFEBenchmarkSystem at 0x7f1a7a904280>"
      ]
     },
     "execution_count": 3,
     "metadata": {},
     "output_type": "execute_result"
    }
   ],
   "source": [
    "tyk2_system = tyk2.get_system()\n",
    "tyk2_system"
   ]
  },
  {
   "cell_type": "markdown",
   "id": "7aff6317-abe0-40df-99db-9d1eb121b20e",
   "metadata": {},
   "source": [
    "The connections for the network are defined here; we'll use these for building up our own `AlchemicalNetwork`."
   ]
  },
  {
   "cell_type": "code",
   "execution_count": 4,
   "id": "ec682c29-12cf-46dc-aea7-8b7e45324529",
   "metadata": {},
   "outputs": [
    {
     "data": {
      "text/plain": [
       "[('lig_ejm_31', 'lig_ejm_50'),\n",
       " ('lig_ejm_46', 'lig_jmc_23'),\n",
       " ('lig_ejm_31', 'lig_ejm_55'),\n",
       " ('lig_ejm_31', 'lig_ejm_48'),\n",
       " ('lig_ejm_31', 'lig_ejm_54'),\n",
       " ('lig_ejm_31', 'lig_ejm_47'),\n",
       " ('lig_ejm_31', 'lig_ejm_46'),\n",
       " ('lig_ejm_46', 'lig_jmc_27'),\n",
       " ('lig_ejm_46', 'lig_jmc_28'),\n",
       " ('lig_ejm_42', 'lig_ejm_43'),\n",
       " ('lig_ejm_31', 'lig_ejm_42'),\n",
       " ('lig_ejm_45', 'lig_ejm_55')]"
      ]
     },
     "execution_count": 4,
     "metadata": {},
     "output_type": "execute_result"
    }
   ],
   "source": [
    "tyk2_system.connections"
   ]
  },
  {
   "cell_type": "markdown",
   "id": "5d3285c5-0b7e-461f-a761-dabd01182775",
   "metadata": {},
   "source": [
    "## Define `ChemicalSystem`s for network nodes"
   ]
  },
  {
   "cell_type": "markdown",
   "id": "90ddf9d5-71d0-44ed-8eea-5ea4d512f615",
   "metadata": {},
   "source": [
    "An `AlchemicalNetwork` features `ChemicalSystem`s as nodes and `Transformation`s as directed edges between nodes. We'll start by defining the nodes for our network.\n",
    "\n",
    "A `ChemicalSystem` is made of one or more `Component`s. These can be one of `ProteinComponent`, `SmallMoleculeComponent`, or `SolventComponent`, and potentially others as needed. This design allows for memory efficient representation of large networks with perhaps hundreds or thousands of nodes, but perhaps far fewer variants in proteins, ligands, etc."
   ]
  },
  {
   "cell_type": "markdown",
   "id": "0b64f1c8-0fa0-4b10-baba-7014f9de9440",
   "metadata": {},
   "source": [
    "### Define `Component`s for a given `ChemicalSystem`"
   ]
  },
  {
   "cell_type": "markdown",
   "id": "90fd672d-ce78-48de-811a-7490ada1ea3b",
   "metadata": {},
   "source": [
    "Let's start by assembling the ligands. These are defined as `SmallMoleculeComponent`s, and can be initialized with RDKit molecules. \n",
    "\n",
    "We'll read a multimolecule SDF from `openfe-benchmarks` and create a `SmallMoleculeComponent` for each ligand in the file:"
   ]
  },
  {
   "cell_type": "code",
   "execution_count": 11,
   "id": "7880e75b-d28d-411c-b5c1-3aafbed31099",
   "metadata": {},
   "outputs": [
    {
     "data": {
      "text/plain": [
       "[SmallMoleculeComponent(name=lig_ejm_31),\n",
       " SmallMoleculeComponent(name=lig_ejm_42),\n",
       " SmallMoleculeComponent(name=lig_ejm_43),\n",
       " SmallMoleculeComponent(name=lig_ejm_45),\n",
       " SmallMoleculeComponent(name=lig_ejm_46),\n",
       " SmallMoleculeComponent(name=lig_ejm_47),\n",
       " SmallMoleculeComponent(name=lig_ejm_48),\n",
       " SmallMoleculeComponent(name=lig_ejm_50),\n",
       " SmallMoleculeComponent(name=lig_ejm_54),\n",
       " SmallMoleculeComponent(name=lig_ejm_55),\n",
       " SmallMoleculeComponent(name=lig_jmc_23),\n",
       " SmallMoleculeComponent(name=lig_jmc_27),\n",
       " SmallMoleculeComponent(name=lig_jmc_28)]"
      ]
     },
     "execution_count": 11,
     "metadata": {},
     "output_type": "execute_result"
    }
   ],
   "source": [
    "with resources.path('openfe_benchmarks.data',\n",
    "                    'tyk2_ligands.sdf') as fn:\n",
    "    ligands_sdf = Chem.SDMolSupplier(str(fn), removeHs=False)\n",
    "    ligands  = [SmallMoleculeComponent(rdkit_ligand) for rdkit_ligand in ligands_sdf]\n",
    "\n",
    "ligands"
   ]
  },
  {
   "cell_type": "markdown",
   "id": "d0f8e9a5-80a1-4eef-86e9-b47a9ba1f9c5",
   "metadata": {},
   "source": [
    "We'll also load our protein into a `ProteinComponent`:"
   ]
  },
  {
   "cell_type": "code",
   "execution_count": 7,
   "id": "8ffcd2d6-47ec-46ee-bfe8-8182915f01bd",
   "metadata": {},
   "outputs": [
    {
     "data": {
      "text/plain": [
       "ProteinComponent(name=tyk2)"
      ]
     },
     "execution_count": 7,
     "metadata": {},
     "output_type": "execute_result"
    }
   ],
   "source": [
    "with resources.path('openfe_benchmarks.data',\n",
    "                    'tyk2_protein.pdb') as fn:\n",
    "    protein = ProteinComponent.from_pdb_file(str(fn), name='tyk2')\n",
    "\n",
    "protein"
   ]
  },
  {
   "cell_type": "markdown",
   "id": "e653c208-1f69-4f08-a38e-55b7123292d9",
   "metadata": {},
   "source": [
    "We'll also need at least one `SolventComponent` to encode our choice of solvent and counterions, with concentration:"
   ]
  },
  {
   "cell_type": "code",
   "execution_count": 8,
   "id": "3c47166d-143b-41f0-9dce-7805e56d7191",
   "metadata": {},
   "outputs": [
    {
     "data": {
      "text/plain": [
       "SolventComponent(name=O, Na+, Cl-)"
      ]
     },
     "execution_count": 8,
     "metadata": {},
     "output_type": "execute_result"
    }
   ],
   "source": [
    "solvent = SolventComponent(positive_ion='Na', \n",
    "                           negative_ion='Cl',\n",
    "                           neutralize=True, \n",
    "                           ion_concentration=0.15*unit.molar)\n",
    "solvent"
   ]
  },
  {
   "cell_type": "markdown",
   "id": "9306e96d-f257-4b71-83e1-9814701570cd",
   "metadata": {},
   "source": [
    "The `SolventComponent` doesn't actually perform any actual solvation (packing water molecules, ions); that is performed just before simulation time during `Protocol` execution."
   ]
  },
  {
   "cell_type": "markdown",
   "id": "ea4dfd8d-4ab6-44c8-a268-abb3d1505803",
   "metadata": {},
   "source": [
    "Each of the ligands have been pre-docked into the protein and aligned to their common scaffold. It is important to recognize that any processing required to prepare ligand and protein structures for alchemical free energy calculations should be done *before* the steps we are taking here."
   ]
  },
  {
   "cell_type": "markdown",
   "id": "b0b11357-2179-496b-9bff-89303e1c9c33",
   "metadata": {},
   "source": [
    "### Build the `ChemicalSystem`s"
   ]
  },
  {
   "cell_type": "markdown",
   "id": "c314a1a2-afcc-4390-9ed0-16fae3d48c6e",
   "metadata": {},
   "source": [
    "We can now construct the `ChemicalSystem`s we want represented in our network. Since we are planning to perform relative binding free energy (RBFE) calculations, we'll define both *complex* and *solvent* variants for each ligand."
   ]
  },
  {
   "cell_type": "code",
   "execution_count": 12,
   "id": "10edc8b3-5f45-4e37-b1d5-bd508601e352",
   "metadata": {},
   "outputs": [
    {
     "data": {
      "text/plain": [
       "{'lig_ejm_31': ChemicalSystem(name=lig_ejm_31_complex, components={'ligand': SmallMoleculeComponent(name=lig_ejm_31), 'solvent': SolventComponent(name=O, Na+, Cl-), 'protein': ProteinComponent(name=tyk2)}),\n",
       " 'lig_ejm_42': ChemicalSystem(name=lig_ejm_42_complex, components={'ligand': SmallMoleculeComponent(name=lig_ejm_42), 'solvent': SolventComponent(name=O, Na+, Cl-), 'protein': ProteinComponent(name=tyk2)}),\n",
       " 'lig_ejm_43': ChemicalSystem(name=lig_ejm_43_complex, components={'ligand': SmallMoleculeComponent(name=lig_ejm_43), 'solvent': SolventComponent(name=O, Na+, Cl-), 'protein': ProteinComponent(name=tyk2)}),\n",
       " 'lig_ejm_45': ChemicalSystem(name=lig_ejm_45_complex, components={'ligand': SmallMoleculeComponent(name=lig_ejm_45), 'solvent': SolventComponent(name=O, Na+, Cl-), 'protein': ProteinComponent(name=tyk2)}),\n",
       " 'lig_ejm_46': ChemicalSystem(name=lig_ejm_46_complex, components={'ligand': SmallMoleculeComponent(name=lig_ejm_46), 'solvent': SolventComponent(name=O, Na+, Cl-), 'protein': ProteinComponent(name=tyk2)}),\n",
       " 'lig_ejm_47': ChemicalSystem(name=lig_ejm_47_complex, components={'ligand': SmallMoleculeComponent(name=lig_ejm_47), 'solvent': SolventComponent(name=O, Na+, Cl-), 'protein': ProteinComponent(name=tyk2)}),\n",
       " 'lig_ejm_48': ChemicalSystem(name=lig_ejm_48_complex, components={'ligand': SmallMoleculeComponent(name=lig_ejm_48), 'solvent': SolventComponent(name=O, Na+, Cl-), 'protein': ProteinComponent(name=tyk2)}),\n",
       " 'lig_ejm_50': ChemicalSystem(name=lig_ejm_50_complex, components={'ligand': SmallMoleculeComponent(name=lig_ejm_50), 'solvent': SolventComponent(name=O, Na+, Cl-), 'protein': ProteinComponent(name=tyk2)}),\n",
       " 'lig_ejm_54': ChemicalSystem(name=lig_ejm_54_complex, components={'ligand': SmallMoleculeComponent(name=lig_ejm_54), 'solvent': SolventComponent(name=O, Na+, Cl-), 'protein': ProteinComponent(name=tyk2)}),\n",
       " 'lig_ejm_55': ChemicalSystem(name=lig_ejm_55_complex, components={'ligand': SmallMoleculeComponent(name=lig_ejm_55), 'solvent': SolventComponent(name=O, Na+, Cl-), 'protein': ProteinComponent(name=tyk2)}),\n",
       " 'lig_jmc_23': ChemicalSystem(name=lig_jmc_23_complex, components={'ligand': SmallMoleculeComponent(name=lig_jmc_23), 'solvent': SolventComponent(name=O, Na+, Cl-), 'protein': ProteinComponent(name=tyk2)}),\n",
       " 'lig_jmc_27': ChemicalSystem(name=lig_jmc_27_complex, components={'ligand': SmallMoleculeComponent(name=lig_jmc_27), 'solvent': SolventComponent(name=O, Na+, Cl-), 'protein': ProteinComponent(name=tyk2)}),\n",
       " 'lig_jmc_28': ChemicalSystem(name=lig_jmc_28_complex, components={'ligand': SmallMoleculeComponent(name=lig_jmc_28), 'solvent': SolventComponent(name=O, Na+, Cl-), 'protein': ProteinComponent(name=tyk2)})}"
      ]
     },
     "execution_count": 12,
     "metadata": {},
     "output_type": "execute_result"
    }
   ],
   "source": [
    "complexed = {l.name: ChemicalSystem(components={'ligand': l, \n",
    "                                                'solvent': solvent, \n",
    "                                                'protein': protein}, \n",
    "                                    name=f\"{l.name}_complex\") \n",
    "             for l in ligands}\n",
    "complexed"
   ]
  },
  {
   "cell_type": "code",
   "execution_count": 13,
   "id": "c8a0b60d-bfae-4f99-9f4d-656c982433b9",
   "metadata": {},
   "outputs": [
    {
     "data": {
      "text/plain": [
       "{'lig_ejm_31': ChemicalSystem(name=lig_ejm_31_water, components={'ligand': SmallMoleculeComponent(name=lig_ejm_31), 'solvent': SolventComponent(name=O, Na+, Cl-)}),\n",
       " 'lig_ejm_42': ChemicalSystem(name=lig_ejm_42_water, components={'ligand': SmallMoleculeComponent(name=lig_ejm_42), 'solvent': SolventComponent(name=O, Na+, Cl-)}),\n",
       " 'lig_ejm_43': ChemicalSystem(name=lig_ejm_43_water, components={'ligand': SmallMoleculeComponent(name=lig_ejm_43), 'solvent': SolventComponent(name=O, Na+, Cl-)}),\n",
       " 'lig_ejm_45': ChemicalSystem(name=lig_ejm_45_water, components={'ligand': SmallMoleculeComponent(name=lig_ejm_45), 'solvent': SolventComponent(name=O, Na+, Cl-)}),\n",
       " 'lig_ejm_46': ChemicalSystem(name=lig_ejm_46_water, components={'ligand': SmallMoleculeComponent(name=lig_ejm_46), 'solvent': SolventComponent(name=O, Na+, Cl-)}),\n",
       " 'lig_ejm_47': ChemicalSystem(name=lig_ejm_47_water, components={'ligand': SmallMoleculeComponent(name=lig_ejm_47), 'solvent': SolventComponent(name=O, Na+, Cl-)}),\n",
       " 'lig_ejm_48': ChemicalSystem(name=lig_ejm_48_water, components={'ligand': SmallMoleculeComponent(name=lig_ejm_48), 'solvent': SolventComponent(name=O, Na+, Cl-)}),\n",
       " 'lig_ejm_50': ChemicalSystem(name=lig_ejm_50_water, components={'ligand': SmallMoleculeComponent(name=lig_ejm_50), 'solvent': SolventComponent(name=O, Na+, Cl-)}),\n",
       " 'lig_ejm_54': ChemicalSystem(name=lig_ejm_54_water, components={'ligand': SmallMoleculeComponent(name=lig_ejm_54), 'solvent': SolventComponent(name=O, Na+, Cl-)}),\n",
       " 'lig_ejm_55': ChemicalSystem(name=lig_ejm_55_water, components={'ligand': SmallMoleculeComponent(name=lig_ejm_55), 'solvent': SolventComponent(name=O, Na+, Cl-)}),\n",
       " 'lig_jmc_23': ChemicalSystem(name=lig_jmc_23_water, components={'ligand': SmallMoleculeComponent(name=lig_jmc_23), 'solvent': SolventComponent(name=O, Na+, Cl-)}),\n",
       " 'lig_jmc_27': ChemicalSystem(name=lig_jmc_27_water, components={'ligand': SmallMoleculeComponent(name=lig_jmc_27), 'solvent': SolventComponent(name=O, Na+, Cl-)}),\n",
       " 'lig_jmc_28': ChemicalSystem(name=lig_jmc_28_water, components={'ligand': SmallMoleculeComponent(name=lig_jmc_28), 'solvent': SolventComponent(name=O, Na+, Cl-)})}"
      ]
     },
     "execution_count": 13,
     "metadata": {},
     "output_type": "execute_result"
    }
   ],
   "source": [
    "solvated = {l.name: ChemicalSystem(components={'ligand': l, \n",
    "                                               'solvent': solvent}, \n",
    "                                   name=f\"{l.name}_water\") \n",
    "            for l in ligands}\n",
    "solvated"
   ]
  },
  {
   "cell_type": "markdown",
   "id": "7566fda4-6c8d-4003-8601-45f05face65a",
   "metadata": {},
   "source": [
    "We now have all our network nodes defined. Next, we need to define the `Transformation`s that we wish to perform between them."
   ]
  },
  {
   "cell_type": "markdown",
   "id": "7bc3a65a-979c-4114-b948-f7315796709d",
   "metadata": {},
   "source": [
    "## Define `Transformation`s between `ChemicalSystem`s as network edges"
   ]
  },
  {
   "cell_type": "markdown",
   "id": "0a92b4c1-fffb-410c-9c76-177fe3ea0a87",
   "metadata": {},
   "source": [
    "A `Transformation` is a directed edge between two `ChemicalSystem`s. It includes a `Protocol` parameterized with `Settings`, and if optionally a `ComponentMapping`. \n",
    "\n",
    "The `Protocol` defines the actual computational method used to evaluate the `Transformation` to yield estimates for the free energy difference between the `ChemicalSystem`s.\n",
    "\n",
    "The `ComponentMapping` defines the atom mapping(s) between corresponding `Component`s in the two `ChemicalSystem`s. This is often critical for relative binding free energy calculations, since the choice of mapping can heavily influence convergence of the resulting estimates."
   ]
  },
  {
   "cell_type": "markdown",
   "id": "ace9de53-2527-47f5-8aae-98d9adef2c1d",
   "metadata": {},
   "source": [
    "### Define the `Protocol` used for `Transformation` evaluation"
   ]
  },
  {
   "cell_type": "markdown",
   "id": "0338be2a-b861-4534-bc78-49c2e00ca2ac",
   "metadata": {},
   "source": [
    "For this example, we'll use the same `Protocol` for all our `Transformation`s, with identical `Settings` for each."
   ]
  }
 ],
 "metadata": {
  "kernelspec": {
   "display_name": "Python 3 (ipykernel)",
   "language": "python",
   "name": "python3"
  },
  "language_info": {
   "codemirror_mode": {
    "name": "ipython",
    "version": 3
   },
   "file_extension": ".py",
   "mimetype": "text/x-python",
   "name": "python",
   "nbconvert_exporter": "python",
   "pygments_lexer": "ipython3",
   "version": "3.9.15"
  }
 },
 "nbformat": 4,
 "nbformat_minor": 5
}
